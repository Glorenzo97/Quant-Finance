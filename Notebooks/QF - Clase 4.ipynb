{
 "cells": [
  {
   "cell_type": "markdown",
   "metadata": {},
   "source": [
    "# Modelo Black Scholes y comparaciones con el mercado"
   ]
  },
  {
   "cell_type": "code",
   "execution_count": null,
   "metadata": {},
   "outputs": [],
   "source": [
    "import math\n",
    "import numpy as np\n",
    "from scipy.stats import norm\n",
    "import sys\n",
    "sys.path.append('..')\n",
    "from Codigo.opcion_europea_bs import opcion_europea_bs\n",
    "from Codigo.opcion_americana_bin import opcion_americana_bin\n",
    "from Codigo.opcion_europea_bin import opcion_europea_bin\n",
    "from Codigo.opcion_europea_bin_c import opcion_europea_bin_c\n",
    "\n"
   ]
  },
  {
   "cell_type": "markdown",
   "metadata": {},
   "source": [
    "Def\n",
    "    Calculador del precio de una opcion Europea con el modelo de Black Scholes\n",
    "Inputs\n",
    "    - tipo : string - Tipo de contrato entre [\"CALL\",\"PUT\"]\n",
    "    - S : float - Spot price del activo\n",
    "    - K : float - Strike price del contrato\n",
    "    - T : float - Tiempo hasta la expiracion (en años)\n",
    "    - r : float - Tasa 'libre de riesgo' (anualizada)\n",
    "    - sigma : float - Volatilidad implicita (anualizada)\n",
    "    - div : float - Tasa de dividendos continuos (anualizada)\n",
    "Outputs\n",
    "    - precio_BS: float - Precio del contrato"
   ]
  },
  {
   "cell_type": "code",
   "execution_count": null,
   "metadata": {},
   "outputs": [],
   "source": [
    "tipo = \"CALL\"\n",
    "S = 100\n",
    "K = 100\n",
    "T = 1\n",
    "r = 0.05\n",
    "sigma =0.25\n",
    "div = 0"
   ]
  },
  {
   "cell_type": "code",
   "execution_count": null,
   "metadata": {},
   "outputs": [],
   "source": [
    "#Defino los ds\n",
    "d1 = (math.log(S / K) + (r - div + 0.5 * sigma * sigma) * T) / sigma / math.sqrt(T)\n",
    "d2 = (math.log(S / K) + (r - div - 0.5 * sigma * sigma) * T) / sigma / math.sqrt(T)\n",
    "\n",
    "print(d1)\n",
    "print(d2)"
   ]
  },
  {
   "cell_type": "code",
   "execution_count": null,
   "metadata": {},
   "outputs": [],
   "source": [
    "if tipo == \"CALL\":\n",
    "    precio_BS = math.exp(-div*T) *S * norm.cdf(d1) - K * math.exp(-r * T) * norm.cdf(d2)\n",
    "elif tipo == \"PUT\":\n",
    "    precio_BS = K * math.exp(-r * T) * norm.cdf(-d2) - math.exp(-div*T) * S * norm.cdf(-d1)"
   ]
  },
  {
   "cell_type": "code",
   "execution_count": null,
   "metadata": {},
   "outputs": [],
   "source": [
    "precio_BS"
   ]
  },
  {
   "cell_type": "markdown",
   "metadata": {},
   "source": [
    "## Comparacion con el modelo Binomial"
   ]
  },
  {
   "cell_type": "code",
   "execution_count": null,
   "metadata": {},
   "outputs": [],
   "source": [
    "pasos = 5000\n",
    "precio_bin = opcion_europea_bin(tipo, S, K, T, r, sigma, div,pasos)\n",
    "precio_bs = opcion_europea_bs(tipo, S, K, T, r, sigma, div)\n",
    "\n",
    "print(\"Precio de Black Scholes : \", precio_bs)\n",
    "print(\"Precio Modelo Binomial  : \", precio_bin)"
   ]
  },
  {
   "cell_type": "markdown",
   "metadata": {},
   "source": [
    "# Modelo Black Scholes y comparaciones con el mercado"
   ]
  },
  {
   "cell_type": "code",
   "execution_count": null,
   "metadata": {},
   "outputs": [],
   "source": [
    "from Codigo.data_nyse import obtener_panel_opciones_nyse\n",
    "from Codigo.data_nyse import obtener_opciones_yahoo_finance\n"
   ]
  },
  {
   "cell_type": "code",
   "execution_count": null,
   "metadata": {},
   "outputs": [],
   "source": [
    "ticker = 'FB'\n",
    "panel_nyse = obtener_panel_opciones_nyse(ticker,True)"
   ]
  },
  {
   "cell_type": "code",
   "execution_count": null,
   "metadata": {},
   "outputs": [],
   "source": [
    "panel_nyse"
   ]
  },
  {
   "cell_type": "markdown",
   "metadata": {},
   "source": [
    "### Panel con datos necesarios para pricear"
   ]
  },
  {
   "cell_type": "code",
   "execution_count": null,
   "metadata": {},
   "outputs": [],
   "source": [
    "# tasa de descuento\n",
    "# dividendos\n",
    "\n",
    "import yfinance as yf\n",
    "\n",
    "data = yf.Ticker(ticker)\n"
   ]
  },
  {
   "cell_type": "code",
   "execution_count": null,
   "metadata": {},
   "outputs": [],
   "source": [
    "data.info\n",
    "#chequear informacion de dividendos"
   ]
  },
  {
   "cell_type": "code",
   "execution_count": null,
   "metadata": {},
   "outputs": [],
   "source": [
    "try:\n",
    "    div = float(data.info['dividendYield'])\n",
    "except:\n",
    "    div = 0.0"
   ]
  },
  {
   "cell_type": "code",
   "execution_count": null,
   "metadata": {},
   "outputs": [],
   "source": [
    "div"
   ]
  },
  {
   "cell_type": "markdown",
   "metadata": {},
   "source": [
    "### Curva de tasas (ad-hoc, poco robusta)"
   ]
  },
  {
   "cell_type": "code",
   "execution_count": null,
   "metadata": {},
   "outputs": [],
   "source": [
    "#Libor\n",
    "#https://es.global-rates.com/tipos-de-interes/libor/dolar-usa/dolar-usa.aspx\n",
    "#Ad hoc curve de tasas:\n",
    "\n",
    "\n",
    "Dias = np.array([1, 7, 30, 60, 91, 182, 365])\n",
    "\n",
    "Tasas = np.array([0.0008725,\n",
    "                 0.0010675,\n",
    "                 0.0015488,\n",
    "                 0.0019613,\n",
    "                 0.0024875,\n",
    "                 0.0030613,\n",
    "                 0.0044863])\n",
    "\n",
    "curva = np.vstack((Dias, Tasas)).T\n",
    "\n",
    "from scipy import interpolate\n",
    "curva_interp = interpolate.interp1d(Dias, Tasas, fill_value='extrapolate')\n",
    "\n",
    "panel_nyse['Tasa'] = curva_interp(panel_nyse.TTM)\n"
   ]
  },
  {
   "cell_type": "code",
   "execution_count": null,
   "metadata": {},
   "outputs": [],
   "source": [
    "curva_interp(50)\n",
    "tasas = np.zeros(400)\n",
    "days = np.zeros(400)\n",
    "for day in range(400):\n",
    "    days[day]=day\n",
    "    tasas[day] = curva_interp(day)\n",
    "    \n",
    "from matplotlib import pyplot as plt\n",
    "\n",
    "plt.plot(days,tasas)"
   ]
  },
  {
   "cell_type": "code",
   "execution_count": null,
   "metadata": {},
   "outputs": [],
   "source": [
    "\n",
    "panel_nyse['Avg'] = (panel_nyse.Bid+panel_nyse.Ask)/2\n",
    "\n",
    "\n",
    "panel_nyse = panel_nyse[panel_nyse.TTM>0]\n",
    "panel_nyse = panel_nyse[panel_nyse.impliedVolatility>0]\n",
    "\n",
    "panel_nyse = panel_nyse[['Especie', 'Ticker', 'Spot', 'Moneyness','CallPut', 'Strike', 'TTM',  'impliedVolatility','Last', 'Bid','Ask','Avg', 'Tasa']]\n",
    "panel_nyse['Precio_BS'] = 0.0\n",
    "panel_nyse['Precio_BIN'] = 0.0\n"
   ]
  },
  {
   "cell_type": "code",
   "execution_count": null,
   "metadata": {},
   "outputs": [],
   "source": [
    "panel_nyse"
   ]
  },
  {
   "cell_type": "code",
   "execution_count": null,
   "metadata": {},
   "outputs": [],
   "source": [
    "for index in range(len(panel_nyse.index)):\n",
    "    if panel_nyse.CallPut.values[index] == \"C\":\n",
    "        tipo =  \"CALL\"\n",
    "    elif panel_nyse.CallPut.values[index] == \"P\":\n",
    "        tipo =  \"PUT\"\n",
    "    S = panel_nyse.Spot.values[index] \n",
    "    K = panel_nyse.Strike.values[index]\n",
    "    T = panel_nyse.TTM.values[index]/365\n",
    "    r = panel_nyse.Tasa.values[index]\n",
    "    sigma = panel_nyse.impliedVolatility.values[index]\n",
    "    \n",
    "    panel_nyse.Precio_BS.values[index] = opcion_europea_bs(tipo, S, K, T, r, sigma, div)\n",
    "    panel_nyse.Precio_BIN.values[index] = opcion_americana_bin(tipo, S, K, T, r, sigma, div, 200)\n",
    "        "
   ]
  },
  {
   "cell_type": "code",
   "execution_count": null,
   "metadata": {},
   "outputs": [],
   "source": [
    "panel_nyse.head(25)"
   ]
  },
  {
   "cell_type": "markdown",
   "metadata": {},
   "source": [
    "### Elijo un maturity y un tipo de opcion y grafico"
   ]
  },
  {
   "cell_type": "code",
   "execution_count": null,
   "metadata": {},
   "outputs": [],
   "source": [
    "TTMs = list(set(panel_nyse.TTM.values))\n",
    "TTMs.sort()\n",
    "from matplotlib import pyplot as plt"
   ]
  },
  {
   "cell_type": "code",
   "execution_count": null,
   "metadata": {},
   "outputs": [],
   "source": [
    "CP = \"C\"\n",
    "\n",
    "TTM = TTMs[5]\n",
    "\n",
    "Ks = panel_nyse[(panel_nyse.TTM == TTM) & (panel_nyse.CallPut == CP)].Strike.values\n",
    "#precios_last = panel_nyse[(panel_nyse.TTM == TTM) & (panel_nyse.CallPut == CP)].Last.values\n",
    "precios_avg = panel_nyse[(panel_nyse.TTM == TTM) & (panel_nyse.CallPut == CP)].Avg.values\n",
    "precios_BS = panel_nyse[(panel_nyse.TTM == TTM) & (panel_nyse.CallPut == CP)].Precio_BS.values\n",
    "precios_BIN = panel_nyse[(panel_nyse.TTM == TTM) & (panel_nyse.CallPut == CP)].Precio_BIN.values\n",
    "    \n",
    "space = 3\n",
    "    \n",
    "#plt.plot(Ks[0::space], precios_last[0::space], '.', label = 'Market - Last')\n",
    "plt.plot(Ks[0::space], precios_avg[0::space], '.',label = 'Market - Avg (Bid-Ask)')\n",
    "plt.plot(Ks[0::space], precios_BS[0::space], '.',label = 'Model - Black Scholes')\n",
    "plt.plot(Ks[0::space], precios_BIN[0::space], '.',label = 'Model - Binomial')\n",
    "\n",
    "\n",
    "plt.legend()\n",
    "\n",
    "plt.xlabel('Strike')\n",
    "plt.ylabel('Precio de mercado del Call')\n",
    "plt.title('Precio delas opciones Call con respecto al Strike')\n",
    "    \n",
    "plt.show()"
   ]
  },
  {
   "cell_type": "code",
   "execution_count": null,
   "metadata": {},
   "outputs": [],
   "source": [
    "\n",
    "CP = \"P\"\n",
    "\n",
    "TTM = TTMs[-10]\n",
    "\n",
    "Ks = panel_nyse[(panel_nyse.TTM == TTM) & (panel_nyse.CallPut == CP)].Strike.values\n",
    "precios_last = panel_nyse[(panel_nyse.TTM == TTM) & (panel_nyse.CallPut == CP)].Last.values\n",
    "precios_avg = panel_nyse[(panel_nyse.TTM == TTM) & (panel_nyse.CallPut == CP)].Avg.values\n",
    "precios_BS = panel_nyse[(panel_nyse.TTM == TTM) & (panel_nyse.CallPut == CP)].Precio_BS.values\n",
    "precios_BIN = panel_nyse[(panel_nyse.TTM == TTM) & (panel_nyse.CallPut == CP)].Precio_BIN.values\n",
    "    \n",
    "space = 3\n",
    "    \n",
    "plt.plot(Ks[0::space], precios_last[0::space], '.', label = 'Market - Last')\n",
    "plt.plot(Ks[0::space], precios_avg[0::space], '.',label = 'Market - Avg (Bid-Ask)')\n",
    "plt.plot(Ks[0::space], precios_BS[0::space], '.',label = 'Model - Black Scholes')\n",
    "plt.plot(Ks[0::space], precios_BIN[0::space], '.',label = 'Model - Binomial')\n",
    "\n",
    "\n",
    "plt.legend()\n",
    "\n",
    "plt.xlabel('Strike')\n",
    "plt.ylabel('Precio de mercado del Call')\n",
    "plt.title('Precio delas opciones Call con respecto al Strike')\n",
    "    \n",
    "plt.show()"
   ]
  },
  {
   "cell_type": "code",
   "execution_count": null,
   "metadata": {},
   "outputs": [],
   "source": [
    "#Me genero un dataframe con fiferencias entre mercado y modelos\n",
    "CP = \"C\"\n",
    "diff_df = panel_nyse[(panel_nyse.TTM == TTMs[15] ) & (panel_nyse.CallPut == CP)][['Avg','Precio_BS','Precio_BIN']]\n",
    "\n",
    "diff_df['AvgVSBS'] = diff_df.Avg-diff_df.Precio_BS\n",
    "diff_df['AvgVSBIN'] = diff_df.Avg-diff_df.Precio_BIN\n",
    "\n",
    "diff_df['Rel_AvgVSBS'] = abs(diff_df.AvgVSBS)/diff_df.Avg * 100\n",
    "diff_df['Rel_AvgVSBIN'] = abs(diff_df.AvgVSBIN)/diff_df.Avg * 100\n",
    "\n",
    "diff_df = diff_df[abs(diff_df.Avg)>0.0]"
   ]
  },
  {
   "cell_type": "code",
   "execution_count": null,
   "metadata": {},
   "outputs": [],
   "source": [
    "diff_df\n"
   ]
  },
  {
   "cell_type": "code",
   "execution_count": null,
   "metadata": {},
   "outputs": [],
   "source": [
    "print(diff_df.mean(axis=0))\n"
   ]
  },
  {
   "cell_type": "code",
   "execution_count": null,
   "metadata": {},
   "outputs": [],
   "source": [
    "panel_nyse.to_csv('Clase4_panel_nyse_modelos.csv')\n",
    "\n",
    "\n",
    "\n"
   ]
  }
 ],
 "metadata": {
  "kernelspec": {
   "display_name": "Python 3",
   "language": "python",
   "name": "python3"
  },
  "language_info": {
   "codemirror_mode": {
    "name": "ipython",
    "version": 3
   },
   "file_extension": ".py",
   "mimetype": "text/x-python",
   "name": "python",
   "nbconvert_exporter": "python",
   "pygments_lexer": "ipython3",
   "version": "3.7.6"
  }
 },
 "nbformat": 4,
 "nbformat_minor": 4
}
