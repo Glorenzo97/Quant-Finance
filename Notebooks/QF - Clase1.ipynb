{
 "cells": [
  {
   "cell_type": "markdown",
   "metadata": {},
   "source": [
    "# Quant Finance - Clase 1"
   ]
  },
  {
   "cell_type": "markdown",
   "metadata": {},
   "source": [
    "## Web Scraping de la pagina de RAVA"
   ]
  },
  {
   "cell_type": "markdown",
   "metadata": {},
   "source": [
    "Modulos necesarios\n",
    "\n",
    "Codigo.data_byma (en github) ;\n",
    "\n",
    "Codigo.utils_opciones_byma (en github)\n",
    "\n",
    "bs4,\n",
    "\n",
    "requests,\n",
    "\n",
    "pandas,\n",
    "\n",
    "matplotlib,\n",
    "\n",
    "datetime,\n",
    "\n",
    "calendar,\n",
    "\n",
    "sys,\n",
    "\n",
    "Instalarlos con Anaconda, comando Conda o comando pip install"
   ]
  },
  {
   "cell_type": "markdown",
   "metadata": {},
   "source": [
    "### Importo los modulos"
   ]
  },
  {
   "cell_type": "code",
   "execution_count": null,
   "metadata": {},
   "outputs": [],
   "source": [
    "import sys\n",
    "sys.path.append('..')\n",
    "#Para poder leer los modulos dentro del directorio \n",
    "from Codigo.data_byma import *\n",
    "from Codigo.utils_opciones_byma import *"
   ]
  },
  {
   "cell_type": "markdown",
   "metadata": {},
   "source": [
    "### Metodo para el web scraping"
   ]
  },
  {
   "cell_type": "code",
   "execution_count": null,
   "metadata": {},
   "outputs": [],
   "source": [
    "panel_rava = web_scraping_opciones_rava()\n",
    "panel_rava.head(20)"
   ]
  },
  {
   "cell_type": "markdown",
   "metadata": {},
   "source": [
    "### Que hace internamente el metodo??"
   ]
  },
  {
   "cell_type": "markdown",
   "metadata": {},
   "source": [
    "#### 1) Beautiful Soup y otros imports"
   ]
  },
  {
   "cell_type": "code",
   "execution_count": null,
   "metadata": {},
   "outputs": [],
   "source": [
    "from bs4 import BeautifulSoup\n",
    "import requests\n",
    "import pandas as pd"
   ]
  },
  {
   "cell_type": "markdown",
   "metadata": {},
   "source": [
    "#### 2) Como usamos BeautifulSoup y requests"
   ]
  },
  {
   "cell_type": "code",
   "execution_count": null,
   "metadata": {},
   "outputs": [],
   "source": [
    "url = 'http://www.rava.com/precios/panel.php?m=OPC'\n",
    "page = requests.get(url)\n",
    "soup = BeautifulSoup(page.text, 'lxml')\n"
   ]
  },
  {
   "cell_type": "code",
   "execution_count": null,
   "metadata": {},
   "outputs": [],
   "source": [
    "# En soup voy a encontrar el codigo html de la pagina\n",
    "soup"
   ]
  },
  {
   "cell_type": "code",
   "execution_count": null,
   "metadata": {},
   "outputs": [],
   "source": [
    "# En opciones tengo el contenido de la tabla correspondiente\n",
    "opciones_html = soup.find('table', {'class': 'tablapanel2'})\n",
    "\n",
    "opciones_html"
   ]
  },
  {
   "cell_type": "code",
   "execution_count": null,
   "metadata": {},
   "outputs": [],
   "source": [
    "# Filas ya va ordenando cada una de las opciones\n",
    "filas = opciones_html.find_all('tr')\n",
    "filas"
   ]
  },
  {
   "cell_type": "markdown",
   "metadata": {},
   "source": [
    "#### 3) Como extraemos la informacion"
   ]
  },
  {
   "cell_type": "code",
   "execution_count": null,
   "metadata": {},
   "outputs": [],
   "source": [
    "tr = filas[0]\n",
    "tr"
   ]
  },
  {
   "cell_type": "code",
   "execution_count": null,
   "metadata": {},
   "outputs": [],
   "source": [
    "td = tr.find_all('td')\n",
    "td\n"
   ]
  },
  {
   "cell_type": "code",
   "execution_count": null,
   "metadata": {},
   "outputs": [],
   "source": [
    "row = [tr.text for tr in td]\n",
    "row"
   ]
  },
  {
   "cell_type": "code",
   "execution_count": null,
   "metadata": {},
   "outputs": [],
   "source": [
    "# inicializo una lista vacia, alli voy a ir poniendo el contenido de cada fila\n",
    "l = []\n",
    "l.append(row)\n",
    "\n",
    "l"
   ]
  },
  {
   "cell_type": "code",
   "execution_count": null,
   "metadata": {},
   "outputs": [],
   "source": [
    "#Ahora si, voy linea por linea a por el contenido de cada fila (dejo la primera linea afuera del loop para que se vea)\n",
    "\n",
    "tr = filas[1]\n",
    "tr"
   ]
  },
  {
   "cell_type": "code",
   "execution_count": null,
   "metadata": {},
   "outputs": [],
   "source": [
    "td = tr.find_all('td')\n",
    "row = [tr.text for tr in td]\n",
    "row"
   ]
  },
  {
   "cell_type": "code",
   "execution_count": null,
   "metadata": {},
   "outputs": [],
   "source": [
    "#Reemplazo ',' por '.' y paso el string a float\n",
    "for index in [1,2,3,4,5,6,8,9]:\n",
    "    row[index] = row[index].replace('.', '')\n",
    "    row[index] = row[index].replace(',', '.')\n",
    "    try:\n",
    "        row[index] = float(row[index])\n",
    "    except:\n",
    "        #Si no encuentra valor pone -99.99\n",
    "        row[index] = -99.99\n",
    "\n",
    "l.append(row)\n",
    "    \n",
    "l\n",
    "    \n",
    "    "
   ]
  },
  {
   "cell_type": "code",
   "execution_count": null,
   "metadata": {},
   "outputs": [],
   "source": [
    "#Ahora si, todas las filas\n",
    "for tr in filas[2:]:\n",
    "    td = tr.find_all('td')\n",
    "    row = [tr.text for tr in td]\n",
    "\n",
    "    #Reemplazo ',' por '.' y paso el string a float\n",
    "    for index in [1,2,3,4,5,6,8,9]:\n",
    "        row[index] = row[index].replace('.', '')\n",
    "        row[index] = row[index].replace(',', '.')\n",
    "        try:\n",
    "            row[index] = float(row[index])\n",
    "        except:\n",
    "            #Si no encuentra valor pone -99.99\n",
    "            row[index] = -99.99\n",
    "\n",
    "    l.append(row)"
   ]
  },
  {
   "cell_type": "code",
   "execution_count": null,
   "metadata": {},
   "outputs": [],
   "source": [
    "# Como se ve l despues del ciclo?\n",
    "l"
   ]
  },
  {
   "cell_type": "markdown",
   "metadata": {},
   "source": [
    "#### 4) Lo convierto en un DataFrame"
   ]
  },
  {
   "cell_type": "code",
   "execution_count": null,
   "metadata": {},
   "outputs": [],
   "source": [
    "panel_rava = pd.DataFrame(l[1:], columns=l[0])\n",
    "\n",
    "panel_rava"
   ]
  },
  {
   "cell_type": "markdown",
   "metadata": {},
   "source": [
    "## Panel acciones (bonus)"
   ]
  },
  {
   "cell_type": "code",
   "execution_count": null,
   "metadata": {},
   "outputs": [],
   "source": [
    "panel_acciones = obtener_panel_acciones()\n",
    "panel_acciones"
   ]
  },
  {
   "cell_type": "markdown",
   "metadata": {},
   "source": [
    "## Del panel de Rava crudo a otro con informacion customizada"
   ]
  },
  {
   "cell_type": "markdown",
   "metadata": {},
   "source": [
    "### Metodo para generar el panel customizado"
   ]
  },
  {
   "cell_type": "code",
   "execution_count": null,
   "metadata": {},
   "outputs": [],
   "source": [
    "panel_opciones_byma_all_raw = obtener_panel_opciones_byma(ticker = '', clean_flag = False)\n",
    "panel_opciones_byma_all_raw"
   ]
  },
  {
   "cell_type": "code",
   "execution_count": null,
   "metadata": {},
   "outputs": [],
   "source": [
    "panel_opciones_byma_all_clean = obtener_panel_opciones_byma(ticker = '', clean_flag = True)\n",
    "panel_opciones_byma_all_clean"
   ]
  },
  {
   "cell_type": "code",
   "execution_count": null,
   "metadata": {},
   "outputs": [],
   "source": [
    "panel_opciones_byma_GGAL_clean = obtener_panel_opciones_byma('GGAL', True)\n",
    "panel_opciones_byma_GGAL_clean"
   ]
  },
  {
   "cell_type": "markdown",
   "metadata": {},
   "source": [
    "### Que hace el metodo internamente?\n",
    "\n"
   ]
  },
  {
   "cell_type": "markdown",
   "metadata": {},
   "source": [
    "#### 1) Levanta los paneles de opciones y de acciones y genera una copia del de opciones"
   ]
  },
  {
   "cell_type": "code",
   "execution_count": null,
   "metadata": {},
   "outputs": [],
   "source": [
    "panel_rava = web_scraping_opciones_rava()\n",
    "#Obtengo el panel crudo de acciones (para el spot)\n",
    "panel_acciones = obtener_panel_acciones()\n",
    "\n",
    "#Genero el nuevo panel\n",
    "panel_opciones = panel_rava.copy()\n"
   ]
  },
  {
   "cell_type": "markdown",
   "metadata": {},
   "source": [
    "#### 2) Inicializo las columnas nuevas a agregar del Dataframe"
   ]
  },
  {
   "cell_type": "code",
   "execution_count": null,
   "metadata": {},
   "outputs": [],
   "source": [
    "#Le agrego las nuevas columnas (ojo con los tipos string, float, int, datetime)\n",
    "panel_opciones['Ticker_Opcion'] = ''\n",
    "panel_opciones['Ticker_Stock'] = ''\n",
    "panel_opciones['Tipo'] = ''\n",
    "panel_opciones['Strike'] = 0.0\n",
    "panel_opciones['ExpiryMonthName'] = ''\n",
    "panel_opciones['ExpiryMonthNumber'] = 0\n",
    "panel_opciones['ExpiryDate'] = datetime.date.today()\n",
    "panel_opciones['Spot'] = 0.0\n",
    "panel_opciones['TTM'] = 0\n",
    "panel_opciones['Moneyness'] = 0.0\n",
    "\n",
    "panel_opciones"
   ]
  },
  {
   "cell_type": "markdown",
   "metadata": {},
   "source": [
    "#### 3) Recorro fila por fila para llenar las nuevas columnas (1 ejemplo)"
   ]
  },
  {
   "cell_type": "markdown",
   "metadata": {},
   "source": [
    "##### *) Desgloso la especie en ticker, strike, vencimiento y tipo"
   ]
  },
  {
   "cell_type": "code",
   "execution_count": null,
   "metadata": {},
   "outputs": [],
   "source": [
    "fila = 0\n",
    "\n",
    "\n",
    "panel_opciones.Ticker_Opcion.values[fila] = panel_opciones.Especie.values[fila][0:3]\n",
    "\n",
    "panel_opciones.Tipo.values[fila] = panel_opciones.Especie.values[fila][3:4]\n",
    "panel_opciones.Strike.values[fila] = panel_opciones.Especie.values[fila][4:8]\n",
    "panel_opciones.ExpiryMonthName.values[fila] = panel_opciones.Especie.values[fila][8:10]\n",
    "\n",
    "panel_opciones.head(2)"
   ]
  },
  {
   "cell_type": "markdown",
   "metadata": {},
   "source": [
    "##### *) Uno a uno voy generando lo necesario"
   ]
  },
  {
   "cell_type": "code",
   "execution_count": null,
   "metadata": {},
   "outputs": [],
   "source": [
    "panel_opciones.Ticker_Stock.values[fila] = conversor_ticker(panel_opciones.Ticker_Opcion.values[fila])\n",
    "\n",
    "panel_opciones.Tipo.values[fila] = panel_opciones.Tipo.values[fila].replace('V', 'P')\n",
    "\n",
    "panel_opciones.head(2)"
   ]
  },
  {
   "cell_type": "code",
   "execution_count": null,
   "metadata": {},
   "outputs": [],
   "source": [
    "# Artilugio que lo tuve que usar NO RECUERDO POR QUE! :)\n",
    "\n",
    "try:\n",
    "    int(panel_opciones.ExpiryMonthName.values[fila][0])\n",
    "    panel_opciones.Strike.values[fila] = float(panel_opciones.Strike.values[fila] + int(panel_opciones.ExpiryMonthName.values[fila][0]))\n",
    "    panel_opciones.ExpiryMonthName.values[fila] = panel_opciones.ExpiryMonthName.values[fila][1]\n",
    "except:\n",
    "    panel_opciones.Strike.values[fila] = float(panel_opciones.Strike.values[fila])\n",
    "    \n",
    "    "
   ]
  },
  {
   "cell_type": "code",
   "execution_count": null,
   "metadata": {},
   "outputs": [],
   "source": [
    "#conversor_ticker('AGR')\n",
    "\n",
    "#panel_opciones.Especie.values[fila][0:3]\n",
    "\n",
    "#panel_opciones.Ticker_Opcion.values[fila]\\\n",
    "\n",
    "#conversor_ticker(panel_opciones.Ticker_Opcion.values[fila])\n",
    "\n",
    "#panel_opciones.Ticker_Stock.values[fila]\n",
    "\n"
   ]
  },
  {
   "cell_type": "markdown",
   "metadata": {},
   "source": [
    "##### *) Obtengo el precio spot del ticker con un metodo interno y aprovechando el panel de acciones"
   ]
  },
  {
   "cell_type": "code",
   "execution_count": null,
   "metadata": {},
   "outputs": [],
   "source": [
    "panel_opciones.Spot.values[fila] = obtener_spot_ticker(panel_acciones, panel_opciones.Ticker_Stock.values[fila])"
   ]
  },
  {
   "cell_type": "markdown",
   "metadata": {},
   "source": [
    "##### *) Obtengo el Time to maturity (en dias)"
   ]
  },
  {
   "cell_type": "code",
   "execution_count": null,
   "metadata": {},
   "outputs": [],
   "source": [
    "try:\n",
    "    panel_opciones.ExpiryMonthNumber.values[fila] = mes_nombre_a_numero(panel_opciones.ExpiryMonthName.values[fila])\n",
    "except:\n",
    "    panel_opciones.ExpiryMonthNumber.values[fila] = 0\n",
    "\n",
    "panel_opciones.ExpiryDate.values[fila] = fecha_expiracion(panel_opciones.ExpiryMonthNumber.values[fila])\n",
    "hoy = datetime.date.today()\n",
    "panel_opciones.TTM.values[fila] = (panel_opciones.ExpiryDate.values[fila] - hoy).days\n",
    "\n",
    "panel_opciones"
   ]
  },
  {
   "cell_type": "markdown",
   "metadata": {},
   "source": [
    "##### *) Por ultimo calculo el moneyness de valor informativo importante"
   ]
  },
  {
   "cell_type": "code",
   "execution_count": null,
   "metadata": {},
   "outputs": [],
   "source": [
    "panel_opciones.Moneyness.values[fila] = panel_opciones.Spot.values[fila] / panel_opciones.Strike.values[fila]"
   ]
  },
  {
   "cell_type": "code",
   "execution_count": null,
   "metadata": {},
   "outputs": [],
   "source": [
    "panel_opciones.head(2)"
   ]
  },
  {
   "cell_type": "markdown",
   "metadata": {},
   "source": [
    "#### 3bis) Recorro fila por fila para llenar las nuevas columnas\n"
   ]
  },
  {
   "cell_type": "code",
   "execution_count": null,
   "metadata": {},
   "outputs": [],
   "source": [
    "\n",
    "for fila in range(1,len(panel_opciones.Especie.values)):\n",
    "    panel_opciones.Ticker_Opcion.values[fila] = panel_opciones.Especie.values[fila][0:3]\n",
    "\n",
    "    panel_opciones.Ticker_Stock.values[fila] = conversor_ticker(panel_opciones.Ticker_Opcion.values[fila])\n",
    "\n",
    "    panel_opciones.Tipo.values[fila] = panel_opciones.Especie.values[fila][3:4]\n",
    "    panel_opciones.Tipo.values[fila] = panel_opciones.Tipo.values[fila].replace('V', 'P')\n",
    "\n",
    "    panel_opciones.Strike.values[fila] = panel_opciones.Especie.values[fila][4:8]\n",
    "\n",
    "    panel_opciones.ExpiryMonthName.values[fila] = panel_opciones.Especie.values[fila][8:10]\n",
    "\n",
    "    try:\n",
    "        int(panel_opciones.ExpiryMonthName.values[fila][0])\n",
    "        panel_opciones.Strike.values[fila] = float(panel_opciones.Strike.values[fila] + int(panel_opciones.ExpiryMonthName.values[fila][0]))\n",
    "        panel_opciones.ExpiryMonthName.values[fila] = panel_opciones.ExpiryMonthName.values[fila][1]\n",
    "    except:\n",
    "        panel_opciones.Strike.values[fila] = float(panel_opciones.Strike.values[fila])\n",
    "\n",
    "    try:\n",
    "        panel_opciones.ExpiryMonthNumber.values[fila] = mes_nombre_a_numero(panel_opciones.ExpiryMonthName.values[fila])\n",
    "    except:\n",
    "        panel_opciones.ExpiryMonthNumber.values[fila] = 0\n",
    "\n",
    "    panel_opciones.ExpiryDate.values[fila] = fecha_expiracion(panel_opciones.ExpiryMonthNumber.values[fila])\n",
    "\n",
    "\n",
    "    panel_opciones.Spot.values[fila] = obtener_spot_ticker(panel_acciones, panel_opciones.Ticker_Stock.values[fila])\n",
    "\n",
    "\n",
    "    hoy = datetime.date.today()\n",
    "    panel_opciones.TTM.values[fila] = (panel_opciones.ExpiryDate.values[fila] - hoy).days\n",
    "\n",
    "    panel_opciones.Moneyness.values[fila] = panel_opciones.Spot.values[fila] / panel_opciones.Strike.values[fila]\n",
    "\n"
   ]
  },
  {
   "cell_type": "code",
   "execution_count": null,
   "metadata": {},
   "outputs": [],
   "source": [
    "#Asi queda entonces el panel\n",
    "panel_opciones"
   ]
  },
  {
   "cell_type": "markdown",
   "metadata": {},
   "source": [
    "#### 4) Filtro por ticker\n"
   ]
  },
  {
   "cell_type": "code",
   "execution_count": null,
   "metadata": {},
   "outputs": [],
   "source": [
    "#Si se provee un ticker, se filtra por ticker, si no, se provee el panel completo\n",
    "\n",
    "ticker = 'ALUA'\n",
    "\n",
    "if ticker == '':\n",
    "    pass\n",
    "else:\n",
    "    panel_opciones = panel_opciones[panel_opciones.Ticker_Stock == ticker]\n",
    "    \n",
    "panel_opciones"
   ]
  },
  {
   "cell_type": "markdown",
   "metadata": {},
   "source": [
    "#### 5) Panel limpio"
   ]
  },
  {
   "cell_type": "code",
   "execution_count": null,
   "metadata": {},
   "outputs": [],
   "source": [
    "panel_limpio = panel_opciones.copy()\n",
    "\n",
    "clean_flag = True\n",
    "\n",
    "# Panel limpio: cambio de nombre, reordenamiento y limpieza minima del panel\n",
    "if clean_flag == True:\n",
    "    # Sacar opciones sobre bonos\n",
    "    panel_limpio = panel_limpio[~panel_limpio.Especie.str.contains('A24')]\n",
    "\n",
    "    panel_limpio = panel_limpio[\n",
    "            ['Especie', 'Ticker_Stock', 'Spot', 'Tipo', 'Strike', 'TTM', 'Último', 'Moneyness']]\n",
    "\n",
    "    panel_limpio = panel_limpio.rename(\n",
    "            columns={'Ticker_Stock': 'Ticker', 'Tipo': 'CallPut', 'Último': 'Last'}, inplace=False)\n",
    "\n",
    "    panel_limpio = panel_limpio.sort_values(['TTM', 'Ticker', 'Strike', 'CallPut'])\n",
    "\n",
    "    # Remover TTMs mayores de un año o negativos (por algun error)\n",
    "    panel_limpio = panel_limpio[panel_limpio.TTM < 364]\n",
    "    panel_limpio = panel_limpio[panel_limpio.TTM > 0]\n",
    "\n",
    "    panel_limpio = panel_limpio.reset_index()\n",
    "    del panel_limpio['index']\n",
    "    \n",
    "panel_limpio"
   ]
  },
  {
   "cell_type": "markdown",
   "metadata": {},
   "source": [
    "## Ploteando los datos"
   ]
  },
  {
   "cell_type": "markdown",
   "metadata": {},
   "source": [
    "### Para cada vencimiento, grafico los strikes"
   ]
  },
  {
   "cell_type": "code",
   "execution_count": null,
   "metadata": {},
   "outputs": [],
   "source": [
    "# BYMA\n",
    "\n",
    "\n",
    "panel_opciones_ggal_byma_limpio = obtener_panel_opciones_byma('GGAL', True)\n",
    "\n",
    "TTMs = list(set(panel_opciones_ggal_byma_limpio.TTM.values))\n",
    "TTMs"
   ]
  },
  {
   "cell_type": "code",
   "execution_count": null,
   "metadata": {},
   "outputs": [],
   "source": [
    "# El proximo vencimiento (usualemtne mas liquido)\n",
    "TTM = min(TTMs)\n",
    "\n",
    "panel_opciones_ggal_byma_limpio[(panel_opciones_ggal_byma_limpio.TTM == TTM)].head(20)"
   ]
  },
  {
   "cell_type": "code",
   "execution_count": null,
   "metadata": {},
   "outputs": [],
   "source": [
    "from matplotlib import pyplot as plt\n",
    "CP = \"C\"\n",
    "for TTM in TTMs:\n",
    "    Ks = panel_opciones_ggal_byma_limpio[(panel_opciones_ggal_byma_limpio.TTM == TTM) & (panel_opciones_ggal_byma_limpio.CallPut == CP)].Strike.values\n",
    "    precios = panel_opciones_ggal_byma_limpio[(panel_opciones_ggal_byma_limpio.TTM == TTM) & (panel_opciones_ggal_byma_limpio.CallPut == CP)].Last.values\n",
    "    plt.plot(Ks, precios,'*', label='TTM = '+str(TTM))\n",
    "\n",
    "\n",
    "plt.legend()\n",
    "\n",
    "plt.xlabel('Strike')\n",
    "plt.ylabel('Precio de mercado del Call')\n",
    "plt.title('Precio de mercado de las opciones Call con respecto al Strike')\n",
    "    \n",
    "plt.show()\n",
    "    "
   ]
  },
  {
   "cell_type": "code",
   "execution_count": null,
   "metadata": {},
   "outputs": [],
   "source": [
    "\n",
    "CP = \"P\"\n",
    "for TTM in TTMs:\n",
    "    Ks = panel_opciones_ggal_byma_limpio[(panel_opciones_ggal_byma_limpio.TTM == TTM) & (panel_opciones_ggal_byma_limpio.CallPut == CP)].Strike.values\n",
    "    precios = panel_opciones_ggal_byma_limpio[(panel_opciones_ggal_byma_limpio.TTM == TTM) & (panel_opciones_ggal_byma_limpio.CallPut == CP)].Last.values\n",
    "    plt.plot(Ks, precios,'*', label='TTM = '+str(TTM))\n",
    "\n",
    "\n",
    "plt.legend()\n",
    "\n",
    "plt.xlabel('Strike')\n",
    "plt.ylabel('Precio de mercado del Call')\n",
    "plt.title('Precio de mercado de las opciones Call con respecto al Strike')\n",
    "    \n",
    "plt.show()"
   ]
  },
  {
   "cell_type": "code",
   "execution_count": null,
   "metadata": {},
   "outputs": [],
   "source": [
    "Ks = list(set(panel_opciones_ggal_byma_limpio.Strike.values))"
   ]
  },
  {
   "cell_type": "code",
   "execution_count": null,
   "metadata": {},
   "outputs": [],
   "source": [
    "\n",
    "CP = \"C\"\n",
    "for K in Ks:\n",
    "    TTMs = panel_opciones_ggal_byma_limpio[(panel_opciones_ggal_byma_limpio.Strike == K) & (panel_opciones_ggal_byma_limpio.CallPut == CP)].Strike.values\n",
    "    precios = panel_opciones_ggal_byma_limpio[(panel_opciones_ggal_byma_limpio.Strike == K) & (panel_opciones_ggal_byma_limpio.CallPut == CP)].Last.values\n",
    "    if len(TTMs)>1:\n",
    "        plt.plot(TTMs, precios,'*', label='Strike = '+str(K))\n",
    "\n",
    "plt.legend()\n",
    "\n",
    "plt.xlabel('TTM')\n",
    "plt.ylabel('Precio de mercado del Call')\n",
    "plt.title('Precio de mercado de las opciones Call con respecto al TTM')\n",
    "    \n",
    "plt.show()\n",
    "    "
   ]
  },
  {
   "cell_type": "markdown",
   "metadata": {},
   "source": [
    "## Pasar a Excel"
   ]
  },
  {
   "cell_type": "code",
   "execution_count": null,
   "metadata": {},
   "outputs": [],
   "source": [
    "panel_opciones_byma_crudo = web_scraping_opciones_rava()\n",
    "panel_opciones_byma_crudo.to_excel('Clase_1_panel_opciones_byma_crudo.xls')\n",
    "\n",
    "panel_acciones_byma = obtener_panel_acciones()\n",
    "panel_acciones_byma.to_excel('Clase_1_panel_acciones.xls')\n",
    "\n",
    "panel_opciones_byma = obtener_panel_opciones_byma('', False)\n",
    "panel_opciones_byma.to_excel('Clase_1_panel_opciones_byma.xls')\n",
    "\n",
    "panel_opciones_byma_limpio = obtener_panel_opciones_byma('', True)\n",
    "panel_opciones_byma_limpio.to_excel('Clase_1_panel_opciones_byma_limpio.xls')\n",
    "panel_opciones_byma_limpio = obtener_panel_opciones_byma('', True)\n",
    "panel_opciones_byma.to_excel('Clase_1_panel_opciones_byma.xls')\n",
    "panel_opciones_byma_limpio.to_excel('Clase_1_panel_opciones_byma_limpio.xls')\n",
    "                                                  \n",
    "                                                  "
   ]
  }
 ],
 "metadata": {
  "kernelspec": {
   "display_name": "Python 3",
   "language": "python",
   "name": "python3"
  },
  "language_info": {
   "codemirror_mode": {
    "name": "ipython",
    "version": 3
   },
   "file_extension": ".py",
   "mimetype": "text/x-python",
   "name": "python",
   "nbconvert_exporter": "python",
   "pygments_lexer": "ipython3",
   "version": "3.7.6"
  }
 },
 "nbformat": 4,
 "nbformat_minor": 4
}
