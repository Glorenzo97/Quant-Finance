{
 "cells": [
  {
   "cell_type": "markdown",
   "metadata": {},
   "source": [
    "# Quant Finance - Clase 1"
   ]
  },
  {
   "cell_type": "markdown",
   "metadata": {},
   "source": [
    "## Web Scraping de la pagina de RAVA"
   ]
  },
  {
   "cell_type": "markdown",
   "metadata": {},
   "source": [
    "Modulos necesarios\n",
    "\n",
    "Codigo.data_byma (en github) ;\n",
    "\n",
    "Codigo.utils_opciones_byma (en github)\n",
    "\n",
    "bs4,\n",
    "\n",
    "requests,\n",
    "\n",
    "pandas,\n",
    "\n",
    "matplotlib,\n",
    "\n",
    "datetime,\n",
    "\n",
    "calendar,\n",
    "\n",
    "Instalarlos con Anaconda, comando Conda o comando pip install"
   ]
  },
  {
   "cell_type": "markdown",
   "metadata": {},
   "source": [
    "### Importo los modulos"
   ]
  },
  {
   "cell_type": "code",
   "execution_count": 5,
   "metadata": {},
   "outputs": [],
   "source": [
    "import sys\n",
    "sys.path.append('..')\n",
    "#Para poder leer los modulos dentro del directorio \n",
    "from Codigo.data_byma import *\n",
    "from Codigo.utils_opciones_byma import *"
   ]
  },
  {
   "cell_type": "markdown",
   "metadata": {},
   "source": [
    "### Metodo para el web scraping"
   ]
  },
  {
   "cell_type": "code",
   "execution_count": 6,
   "metadata": {},
   "outputs": [
    {
     "data": {
      "text/html": [
       "<div>\n",
       "<style scoped>\n",
       "    .dataframe tbody tr th:only-of-type {\n",
       "        vertical-align: middle;\n",
       "    }\n",
       "\n",
       "    .dataframe tbody tr th {\n",
       "        vertical-align: top;\n",
       "    }\n",
       "\n",
       "    .dataframe thead th {\n",
       "        text-align: right;\n",
       "    }\n",
       "</style>\n",
       "<table border=\"1\" class=\"dataframe\">\n",
       "  <thead>\n",
       "    <tr style=\"text-align: right;\">\n",
       "      <th></th>\n",
       "      <th>Especie</th>\n",
       "      <th>Último</th>\n",
       "      <th>% Día</th>\n",
       "      <th>Anterior</th>\n",
       "      <th>Apertura</th>\n",
       "      <th>Mínimo</th>\n",
       "      <th>Máximo</th>\n",
       "      <th>Hora</th>\n",
       "      <th>Vol. Nominal</th>\n",
       "      <th>Vol. Efectivo</th>\n",
       "    </tr>\n",
       "  </thead>\n",
       "  <tbody>\n",
       "    <tr>\n",
       "      <th>0</th>\n",
       "      <td>AGRC12.0AG</td>\n",
       "      <td>1.990</td>\n",
       "      <td>165.33</td>\n",
       "      <td>0.750</td>\n",
       "      <td>2.000</td>\n",
       "      <td>1.990</td>\n",
       "      <td>2.00</td>\n",
       "      <td>15:17</td>\n",
       "      <td>29.0</td>\n",
       "      <td>5796.0</td>\n",
       "    </tr>\n",
       "    <tr>\n",
       "      <th>1</th>\n",
       "      <td>ALUC13.9AG</td>\n",
       "      <td>27.999</td>\n",
       "      <td>2.19</td>\n",
       "      <td>27.400</td>\n",
       "      <td>27.000</td>\n",
       "      <td>26.000</td>\n",
       "      <td>28.00</td>\n",
       "      <td>16:56</td>\n",
       "      <td>1343.0</td>\n",
       "      <td>3516153.0</td>\n",
       "    </tr>\n",
       "    <tr>\n",
       "      <th>2</th>\n",
       "      <td>ALUC13.9OC</td>\n",
       "      <td>29.500</td>\n",
       "      <td>0.00</td>\n",
       "      <td>29.500</td>\n",
       "      <td>27.850</td>\n",
       "      <td>27.400</td>\n",
       "      <td>29.50</td>\n",
       "      <td>16:54</td>\n",
       "      <td>1101.0</td>\n",
       "      <td>3094285.0</td>\n",
       "    </tr>\n",
       "    <tr>\n",
       "      <th>3</th>\n",
       "      <td>ALUC20.9AG</td>\n",
       "      <td>23.000</td>\n",
       "      <td>-4.17</td>\n",
       "      <td>24.000</td>\n",
       "      <td>23.000</td>\n",
       "      <td>23.000</td>\n",
       "      <td>23.00</td>\n",
       "      <td>14:57</td>\n",
       "      <td>4.0</td>\n",
       "      <td>9200.0</td>\n",
       "    </tr>\n",
       "    <tr>\n",
       "      <th>4</th>\n",
       "      <td>ALUC27.0AG</td>\n",
       "      <td>16.000</td>\n",
       "      <td>3.84</td>\n",
       "      <td>15.408</td>\n",
       "      <td>16.250</td>\n",
       "      <td>16.000</td>\n",
       "      <td>18.00</td>\n",
       "      <td>16:24</td>\n",
       "      <td>105.0</td>\n",
       "      <td>187971.0</td>\n",
       "    </tr>\n",
       "    <tr>\n",
       "      <th>5</th>\n",
       "      <td>ALUC31.0AG</td>\n",
       "      <td>11.000</td>\n",
       "      <td>25.86</td>\n",
       "      <td>8.740</td>\n",
       "      <td>13.500</td>\n",
       "      <td>11.000</td>\n",
       "      <td>13.50</td>\n",
       "      <td>15:07</td>\n",
       "      <td>17.0</td>\n",
       "      <td>21200.0</td>\n",
       "    </tr>\n",
       "    <tr>\n",
       "      <th>6</th>\n",
       "      <td>ALUC31.0OC</td>\n",
       "      <td>13.500</td>\n",
       "      <td>-12.07</td>\n",
       "      <td>15.353</td>\n",
       "      <td>12.500</td>\n",
       "      <td>12.000</td>\n",
       "      <td>13.50</td>\n",
       "      <td>16:50</td>\n",
       "      <td>88.0</td>\n",
       "      <td>110751.0</td>\n",
       "    </tr>\n",
       "    <tr>\n",
       "      <th>7</th>\n",
       "      <td>ALUC33.0AG</td>\n",
       "      <td>10.000</td>\n",
       "      <td>18.34</td>\n",
       "      <td>8.450</td>\n",
       "      <td>10.000</td>\n",
       "      <td>10.000</td>\n",
       "      <td>10.10</td>\n",
       "      <td>14:57</td>\n",
       "      <td>3.0</td>\n",
       "      <td>3010.0</td>\n",
       "    </tr>\n",
       "    <tr>\n",
       "      <th>8</th>\n",
       "      <td>ALUC35.0AG</td>\n",
       "      <td>9.400</td>\n",
       "      <td>10.60</td>\n",
       "      <td>8.499</td>\n",
       "      <td>9.000</td>\n",
       "      <td>8.500</td>\n",
       "      <td>9.70</td>\n",
       "      <td>16:15</td>\n",
       "      <td>104.0</td>\n",
       "      <td>94720.0</td>\n",
       "    </tr>\n",
       "    <tr>\n",
       "      <th>9</th>\n",
       "      <td>ALUC37.0AG</td>\n",
       "      <td>6.000</td>\n",
       "      <td>-7.61</td>\n",
       "      <td>6.494</td>\n",
       "      <td>6.494</td>\n",
       "      <td>5.200</td>\n",
       "      <td>6.50</td>\n",
       "      <td>16:58</td>\n",
       "      <td>194.0</td>\n",
       "      <td>109941.0</td>\n",
       "    </tr>\n",
       "    <tr>\n",
       "      <th>10</th>\n",
       "      <td>ALUC37.0OC</td>\n",
       "      <td>7.000</td>\n",
       "      <td>-22.22</td>\n",
       "      <td>9.000</td>\n",
       "      <td>8.000</td>\n",
       "      <td>7.000</td>\n",
       "      <td>8.50</td>\n",
       "      <td>15:11</td>\n",
       "      <td>31.0</td>\n",
       "      <td>22562.0</td>\n",
       "    </tr>\n",
       "    <tr>\n",
       "      <th>11</th>\n",
       "      <td>ALUC39.0AG</td>\n",
       "      <td>2.800</td>\n",
       "      <td>40.00</td>\n",
       "      <td>2.000</td>\n",
       "      <td>2.498</td>\n",
       "      <td>2.498</td>\n",
       "      <td>2.80</td>\n",
       "      <td>14:45</td>\n",
       "      <td>50.0</td>\n",
       "      <td>12527.0</td>\n",
       "    </tr>\n",
       "    <tr>\n",
       "      <th>12</th>\n",
       "      <td>ALUC41.0AG</td>\n",
       "      <td>2.960</td>\n",
       "      <td>3.46</td>\n",
       "      <td>2.861</td>\n",
       "      <td>3.500</td>\n",
       "      <td>2.010</td>\n",
       "      <td>3.50</td>\n",
       "      <td>16:34</td>\n",
       "      <td>546.0</td>\n",
       "      <td>130184.0</td>\n",
       "    </tr>\n",
       "    <tr>\n",
       "      <th>13</th>\n",
       "      <td>ALUC41.0OC</td>\n",
       "      <td>5.600</td>\n",
       "      <td>-20.00</td>\n",
       "      <td>7.000</td>\n",
       "      <td>5.600</td>\n",
       "      <td>5.600</td>\n",
       "      <td>5.60</td>\n",
       "      <td>16:45</td>\n",
       "      <td>5.0</td>\n",
       "      <td>2800.0</td>\n",
       "    </tr>\n",
       "    <tr>\n",
       "      <th>14</th>\n",
       "      <td>ALUC45.0AG</td>\n",
       "      <td>1.120</td>\n",
       "      <td>-10.40</td>\n",
       "      <td>1.250</td>\n",
       "      <td>0.805</td>\n",
       "      <td>0.800</td>\n",
       "      <td>1.12</td>\n",
       "      <td>16:58</td>\n",
       "      <td>237.0</td>\n",
       "      <td>21125.0</td>\n",
       "    </tr>\n",
       "    <tr>\n",
       "      <th>15</th>\n",
       "      <td>ALUV37.0AG</td>\n",
       "      <td>0.500</td>\n",
       "      <td>0.00</td>\n",
       "      <td>0.500</td>\n",
       "      <td>0.500</td>\n",
       "      <td>0.500</td>\n",
       "      <td>0.75</td>\n",
       "      <td>16:39</td>\n",
       "      <td>22.0</td>\n",
       "      <td>1180.0</td>\n",
       "    </tr>\n",
       "    <tr>\n",
       "      <th>16</th>\n",
       "      <td>BBAC100.AG</td>\n",
       "      <td>83.000</td>\n",
       "      <td>13.70</td>\n",
       "      <td>73.000</td>\n",
       "      <td>83.000</td>\n",
       "      <td>83.000</td>\n",
       "      <td>83.00</td>\n",
       "      <td>16:24</td>\n",
       "      <td>3.0</td>\n",
       "      <td>24900.0</td>\n",
       "    </tr>\n",
       "    <tr>\n",
       "      <th>17</th>\n",
       "      <td>BBAC110.AG</td>\n",
       "      <td>60.000</td>\n",
       "      <td>0.00</td>\n",
       "      <td>-99.990</td>\n",
       "      <td>60.000</td>\n",
       "      <td>60.000</td>\n",
       "      <td>60.00</td>\n",
       "      <td>16:50</td>\n",
       "      <td>9.0</td>\n",
       "      <td>54000.0</td>\n",
       "    </tr>\n",
       "    <tr>\n",
       "      <th>18</th>\n",
       "      <td>BBAC130.AG</td>\n",
       "      <td>56.000</td>\n",
       "      <td>14.29</td>\n",
       "      <td>49.000</td>\n",
       "      <td>53.000</td>\n",
       "      <td>53.000</td>\n",
       "      <td>56.00</td>\n",
       "      <td>15:17</td>\n",
       "      <td>17.0</td>\n",
       "      <td>92250.0</td>\n",
       "    </tr>\n",
       "    <tr>\n",
       "      <th>19</th>\n",
       "      <td>BBAC95.0AG</td>\n",
       "      <td>65.000</td>\n",
       "      <td>0.73</td>\n",
       "      <td>64.531</td>\n",
       "      <td>65.000</td>\n",
       "      <td>65.000</td>\n",
       "      <td>65.00</td>\n",
       "      <td>11:29</td>\n",
       "      <td>10.0</td>\n",
       "      <td>65000.0</td>\n",
       "    </tr>\n",
       "  </tbody>\n",
       "</table>\n",
       "</div>"
      ],
      "text/plain": [
       "       Especie  Último   % Día  Anterior  Apertura  Mínimo  Máximo   Hora  \\\n",
       "0   AGRC12.0AG   1.990  165.33     0.750     2.000   1.990    2.00  15:17   \n",
       "1   ALUC13.9AG  27.999    2.19    27.400    27.000  26.000   28.00  16:56   \n",
       "2   ALUC13.9OC  29.500    0.00    29.500    27.850  27.400   29.50  16:54   \n",
       "3   ALUC20.9AG  23.000   -4.17    24.000    23.000  23.000   23.00  14:57   \n",
       "4   ALUC27.0AG  16.000    3.84    15.408    16.250  16.000   18.00  16:24   \n",
       "5   ALUC31.0AG  11.000   25.86     8.740    13.500  11.000   13.50  15:07   \n",
       "6   ALUC31.0OC  13.500  -12.07    15.353    12.500  12.000   13.50  16:50   \n",
       "7   ALUC33.0AG  10.000   18.34     8.450    10.000  10.000   10.10  14:57   \n",
       "8   ALUC35.0AG   9.400   10.60     8.499     9.000   8.500    9.70  16:15   \n",
       "9   ALUC37.0AG   6.000   -7.61     6.494     6.494   5.200    6.50  16:58   \n",
       "10  ALUC37.0OC   7.000  -22.22     9.000     8.000   7.000    8.50  15:11   \n",
       "11  ALUC39.0AG   2.800   40.00     2.000     2.498   2.498    2.80  14:45   \n",
       "12  ALUC41.0AG   2.960    3.46     2.861     3.500   2.010    3.50  16:34   \n",
       "13  ALUC41.0OC   5.600  -20.00     7.000     5.600   5.600    5.60  16:45   \n",
       "14  ALUC45.0AG   1.120  -10.40     1.250     0.805   0.800    1.12  16:58   \n",
       "15  ALUV37.0AG   0.500    0.00     0.500     0.500   0.500    0.75  16:39   \n",
       "16  BBAC100.AG  83.000   13.70    73.000    83.000  83.000   83.00  16:24   \n",
       "17  BBAC110.AG  60.000    0.00   -99.990    60.000  60.000   60.00  16:50   \n",
       "18  BBAC130.AG  56.000   14.29    49.000    53.000  53.000   56.00  15:17   \n",
       "19  BBAC95.0AG  65.000    0.73    64.531    65.000  65.000   65.00  11:29   \n",
       "\n",
       "    Vol. Nominal  Vol. Efectivo  \n",
       "0           29.0         5796.0  \n",
       "1         1343.0      3516153.0  \n",
       "2         1101.0      3094285.0  \n",
       "3            4.0         9200.0  \n",
       "4          105.0       187971.0  \n",
       "5           17.0        21200.0  \n",
       "6           88.0       110751.0  \n",
       "7            3.0         3010.0  \n",
       "8          104.0        94720.0  \n",
       "9          194.0       109941.0  \n",
       "10          31.0        22562.0  \n",
       "11          50.0        12527.0  \n",
       "12         546.0       130184.0  \n",
       "13           5.0         2800.0  \n",
       "14         237.0        21125.0  \n",
       "15          22.0         1180.0  \n",
       "16           3.0        24900.0  \n",
       "17           9.0        54000.0  \n",
       "18          17.0        92250.0  \n",
       "19          10.0        65000.0  "
      ]
     },
     "execution_count": 6,
     "metadata": {},
     "output_type": "execute_result"
    }
   ],
   "source": [
    "panel_rava = web_scraping_opciones_rava()\n",
    "panel_rava.head(20)"
   ]
  },
  {
   "cell_type": "markdown",
   "metadata": {},
   "source": [
    "### Que hace internamente el metodo??"
   ]
  },
  {
   "cell_type": "markdown",
   "metadata": {},
   "source": [
    "#### 1) Beautiful Soup y otros imports"
   ]
  },
  {
   "cell_type": "code",
   "execution_count": null,
   "metadata": {},
   "outputs": [],
   "source": [
    "from bs4 import BeautifulSoup\n",
    "import requests\n",
    "import pandas as pd"
   ]
  },
  {
   "cell_type": "markdown",
   "metadata": {},
   "source": [
    "#### 2) Como usamos BeautifulSoup y requests"
   ]
  },
  {
   "cell_type": "code",
   "execution_count": null,
   "metadata": {},
   "outputs": [],
   "source": [
    "url = 'http://www.rava.com/precios/panel.php?m=OPC'\n",
    "page = requests.get(url)\n",
    "soup = BeautifulSoup(page.text, 'lxml')\n"
   ]
  },
  {
   "cell_type": "code",
   "execution_count": null,
   "metadata": {},
   "outputs": [],
   "source": [
    "# En soup voy a encontrar el codigo html de la pagina\n",
    "soup"
   ]
  },
  {
   "cell_type": "code",
   "execution_count": null,
   "metadata": {},
   "outputs": [],
   "source": [
    "# En opciones tengo el contenido de la tabla correspondiente\n",
    "opciones_html = soup.find('table', {'class': 'tablapanel2'})\n",
    "\n",
    "opciones_html"
   ]
  },
  {
   "cell_type": "code",
   "execution_count": null,
   "metadata": {},
   "outputs": [],
   "source": [
    "# Filas ya va ordenando cada una de las opciones\n",
    "filas = opciones_html.find_all('tr')\n",
    "filas"
   ]
  },
  {
   "cell_type": "markdown",
   "metadata": {},
   "source": [
    "#### 3) Como extraemos la informacion"
   ]
  },
  {
   "cell_type": "code",
   "execution_count": null,
   "metadata": {},
   "outputs": [],
   "source": [
    "tr = filas[0]\n",
    "tr"
   ]
  },
  {
   "cell_type": "code",
   "execution_count": null,
   "metadata": {},
   "outputs": [],
   "source": [
    "td = tr.find_all('td')\n",
    "td\n"
   ]
  },
  {
   "cell_type": "code",
   "execution_count": null,
   "metadata": {},
   "outputs": [],
   "source": [
    "row = [tr.text for tr in td]\n",
    "row"
   ]
  },
  {
   "cell_type": "code",
   "execution_count": null,
   "metadata": {},
   "outputs": [],
   "source": [
    "# inicializo una lista vacia, alli voy a ir poniendo el contenido de cada fila\n",
    "l = []\n",
    "l.append(row)\n",
    "\n",
    "l"
   ]
  },
  {
   "cell_type": "code",
   "execution_count": null,
   "metadata": {},
   "outputs": [],
   "source": [
    "#Ahora si, voy linea por linea a por el contenido de cada fila (dejo la primera linea afuera del loop para que se vea)\n",
    "\n",
    "tr = filas[1]\n",
    "tr"
   ]
  },
  {
   "cell_type": "code",
   "execution_count": null,
   "metadata": {},
   "outputs": [],
   "source": [
    "td = tr.find_all('td')\n",
    "row = [tr.text for tr in td]\n",
    "row"
   ]
  },
  {
   "cell_type": "code",
   "execution_count": null,
   "metadata": {},
   "outputs": [],
   "source": [
    "#Reemplazo ',' por '.' y paso el string a float\n",
    "for index in [1,2,3,4,5,6,8,9]:\n",
    "    row[index] = row[index].replace('.', '')\n",
    "    row[index] = row[index].replace(',', '.')\n",
    "    try:\n",
    "        row[index] = float(row[index])\n",
    "    except:\n",
    "        #Si no encuentra valor pone -99.99\n",
    "        row[index] = -99.99\n",
    "\n",
    "l.append(row)\n",
    "    \n",
    "l\n",
    "    \n",
    "    "
   ]
  },
  {
   "cell_type": "code",
   "execution_count": null,
   "metadata": {},
   "outputs": [],
   "source": [
    "#Ahora si, todas las filas\n",
    "for tr in filas[2:]:\n",
    "    td = tr.find_all('td')\n",
    "    row = [tr.text for tr in td]\n",
    "\n",
    "    #Reemplazo ',' por '.' y paso el string a float\n",
    "    for index in [1,2,3,4,5,6,8,9]:\n",
    "        row[index] = row[index].replace('.', '')\n",
    "        row[index] = row[index].replace(',', '.')\n",
    "        try:\n",
    "            row[index] = float(row[index])\n",
    "        except:\n",
    "            #Si no encuentra valor pone -99.99\n",
    "            row[index] = -99.99\n",
    "\n",
    "    l.append(row)"
   ]
  },
  {
   "cell_type": "code",
   "execution_count": null,
   "metadata": {},
   "outputs": [],
   "source": [
    "# Como se ve l despues del ciclo?\n",
    "l"
   ]
  },
  {
   "cell_type": "markdown",
   "metadata": {},
   "source": [
    "#### 4) Lo convierto en un DataFrame"
   ]
  },
  {
   "cell_type": "code",
   "execution_count": null,
   "metadata": {},
   "outputs": [],
   "source": [
    "panel_rava = pd.DataFrame(l[1:], columns=l[0])\n",
    "\n",
    "panel_rava"
   ]
  },
  {
   "cell_type": "markdown",
   "metadata": {},
   "source": [
    "## Panel acciones (bonus)"
   ]
  },
  {
   "cell_type": "code",
   "execution_count": null,
   "metadata": {},
   "outputs": [],
   "source": [
    "panel_acciones = obtener_panel_acciones()\n",
    "panel_acciones"
   ]
  },
  {
   "cell_type": "markdown",
   "metadata": {},
   "source": [
    "## Del panel de Rava crudo a otro con informacion customizada"
   ]
  },
  {
   "cell_type": "markdown",
   "metadata": {},
   "source": [
    "### Metodo para generar el panel customizado"
   ]
  },
  {
   "cell_type": "code",
   "execution_count": null,
   "metadata": {},
   "outputs": [],
   "source": [
    "panel_opciones_byma_all_raw = obtener_panel_opciones_byma(ticker = '', clean_flag = False)\n",
    "panel_opciones_byma_all_raw"
   ]
  },
  {
   "cell_type": "code",
   "execution_count": null,
   "metadata": {},
   "outputs": [],
   "source": [
    "panel_opciones_byma_all_clean = obtener_panel_opciones_byma(ticker = '', clean_flag = True)\n",
    "panel_opciones_byma_all_clean"
   ]
  },
  {
   "cell_type": "code",
   "execution_count": null,
   "metadata": {},
   "outputs": [],
   "source": [
    "panel_opciones_byma_GGAL_clean = obtener_panel_opciones_byma('GGAL', True)\n",
    "panel_opciones_byma_GGAL_clean"
   ]
  },
  {
   "cell_type": "markdown",
   "metadata": {},
   "source": [
    "### Que hace el metodo internamente?\n",
    "\n"
   ]
  },
  {
   "cell_type": "markdown",
   "metadata": {},
   "source": [
    "#### 1) Levanta los paneles de opciones y de acciones y genera una copia del de opciones"
   ]
  },
  {
   "cell_type": "code",
   "execution_count": null,
   "metadata": {},
   "outputs": [],
   "source": [
    "panel_rava = web_scraping_opciones_rava()\n",
    "#Obtengo el panel crudo de acciones (para el spot)\n",
    "panel_acciones = obtener_panel_acciones()\n",
    "\n",
    "#Genero el nuevo panel\n",
    "panel_opciones = panel_rava.copy()\n"
   ]
  },
  {
   "cell_type": "markdown",
   "metadata": {},
   "source": [
    "#### 2) Inicializo las columnas nuevas a agregar del Dataframe"
   ]
  },
  {
   "cell_type": "code",
   "execution_count": null,
   "metadata": {},
   "outputs": [],
   "source": [
    "#Le agrego las nuevas columnas (ojo con los tipos string, float, int, datetime)\n",
    "panel_opciones['Ticker_Opcion'] = ''\n",
    "panel_opciones['Ticker_Stock'] = ''\n",
    "panel_opciones['Tipo'] = ''\n",
    "panel_opciones['Strike'] = 0.0\n",
    "panel_opciones['ExpiryMonthName'] = ''\n",
    "panel_opciones['ExpiryMonthNumber'] = 0\n",
    "panel_opciones['ExpiryDate'] = datetime.date.today()\n",
    "panel_opciones['Spot'] = 0.0\n",
    "panel_opciones['TTM'] = 0\n",
    "panel_opciones['Moneyness'] = 0.0\n",
    "\n",
    "panel_opciones"
   ]
  },
  {
   "cell_type": "markdown",
   "metadata": {},
   "source": [
    "#### 3) Recorro fila por fila para llenar las nuevas columnas (1 ejemplo)"
   ]
  },
  {
   "cell_type": "markdown",
   "metadata": {},
   "source": [
    "##### *) Desgloso la especie en ticker, strike, vencimiento y tipo"
   ]
  },
  {
   "cell_type": "code",
   "execution_count": null,
   "metadata": {},
   "outputs": [],
   "source": [
    "fila = 0\n",
    "\n",
    "\n",
    "panel_opciones.Ticker_Opcion.values[fila] = panel_opciones.Especie.values[fila][0:3]\n",
    "\n",
    "panel_opciones.Tipo.values[fila] = panel_opciones.Especie.values[fila][3:4]\n",
    "panel_opciones.Strike.values[fila] = panel_opciones.Especie.values[fila][4:8]\n",
    "panel_opciones.ExpiryMonthName.values[fila] = panel_opciones.Especie.values[fila][8:10]\n",
    "\n",
    "panel_opciones.head(2)"
   ]
  },
  {
   "cell_type": "markdown",
   "metadata": {},
   "source": [
    "##### *) Uno a uno voy generando lo necesario"
   ]
  },
  {
   "cell_type": "code",
   "execution_count": null,
   "metadata": {},
   "outputs": [],
   "source": [
    "panel_opciones.Ticker_Stock.values[fila] = conversor_ticker(panel_opciones.Ticker_Opcion.values[fila])\n",
    "\n",
    "panel_opciones.Tipo.values[fila] = panel_opciones.Tipo.values[fila].replace('V', 'P')\n",
    "\n",
    "panel_opciones.head(2)"
   ]
  },
  {
   "cell_type": "code",
   "execution_count": null,
   "metadata": {},
   "outputs": [],
   "source": [
    "# Artilugio que lo tuve que usar NO RECUERDO POR QUE! :)\n",
    "\n",
    "try:\n",
    "    int(panel_opciones.ExpiryMonthName.values[fila][0])\n",
    "    panel_opciones.Strike.values[fila] = float(panel_opciones.Strike.values[fila] + int(panel_opciones.ExpiryMonthName.values[fila][0]))\n",
    "    panel_opciones.ExpiryMonthName.values[fila] = panel_opciones.ExpiryMonthName.values[fila][1]\n",
    "except:\n",
    "    panel_opciones.Strike.values[fila] = float(panel_opciones.Strike.values[fila])\n",
    "    \n",
    "    "
   ]
  },
  {
   "cell_type": "code",
   "execution_count": null,
   "metadata": {},
   "outputs": [],
   "source": [
    "#conversor_ticker('AGR')\n",
    "\n",
    "#panel_opciones.Especie.values[fila][0:3]\n",
    "\n",
    "#panel_opciones.Ticker_Opcion.values[fila]\\\n",
    "\n",
    "#conversor_ticker(panel_opciones.Ticker_Opcion.values[fila])\n",
    "\n",
    "#panel_opciones.Ticker_Stock.values[fila]\n",
    "\n"
   ]
  },
  {
   "cell_type": "markdown",
   "metadata": {},
   "source": [
    "##### *) Obtengo el precio spot del ticker con un metodo interno y aprovechando el panel de acciones"
   ]
  },
  {
   "cell_type": "code",
   "execution_count": null,
   "metadata": {},
   "outputs": [],
   "source": [
    "panel_opciones.Spot.values[fila] = obtener_spot_ticker(panel_acciones, panel_opciones.Ticker_Stock.values[fila])"
   ]
  },
  {
   "cell_type": "markdown",
   "metadata": {},
   "source": [
    "##### *) Obtengo el Time to maturity (en dias)"
   ]
  },
  {
   "cell_type": "code",
   "execution_count": null,
   "metadata": {},
   "outputs": [],
   "source": [
    "try:\n",
    "    panel_opciones.ExpiryMonthNumber.values[fila] = mes_nombre_a_numero(panel_opciones.ExpiryMonthName.values[fila])\n",
    "except:\n",
    "    panel_opciones.ExpiryMonthNumber.values[fila] = 0\n",
    "\n",
    "panel_opciones.ExpiryDate.values[fila] = fecha_expiracion(panel_opciones.ExpiryMonthNumber.values[fila])\n",
    "hoy = datetime.date.today()\n",
    "panel_opciones.TTM.values[fila] = (panel_opciones.ExpiryDate.values[fila] - hoy).days\n",
    "\n",
    "panel_opciones"
   ]
  },
  {
   "cell_type": "markdown",
   "metadata": {},
   "source": [
    "##### *) Por ultimo calculo el moneyness de valor informativo importante"
   ]
  },
  {
   "cell_type": "code",
   "execution_count": null,
   "metadata": {},
   "outputs": [],
   "source": [
    "panel_opciones.Moneyness.values[fila] = panel_opciones.Spot.values[fila] / panel_opciones.Strike.values[fila]"
   ]
  },
  {
   "cell_type": "code",
   "execution_count": null,
   "metadata": {},
   "outputs": [],
   "source": [
    "panel_opciones.head(2)"
   ]
  },
  {
   "cell_type": "markdown",
   "metadata": {},
   "source": [
    "#### 3bis) Recorro fila por fila para llenar las nuevas columnas\n"
   ]
  },
  {
   "cell_type": "code",
   "execution_count": null,
   "metadata": {},
   "outputs": [],
   "source": [
    "\n",
    "for fila in range(1,len(panel_opciones.Especie.values)):\n",
    "    panel_opciones.Ticker_Opcion.values[fila] = panel_opciones.Especie.values[fila][0:3]\n",
    "\n",
    "    panel_opciones.Ticker_Stock.values[fila] = conversor_ticker(panel_opciones.Ticker_Opcion.values[fila])\n",
    "\n",
    "    panel_opciones.Tipo.values[fila] = panel_opciones.Especie.values[fila][3:4]\n",
    "    panel_opciones.Tipo.values[fila] = panel_opciones.Tipo.values[fila].replace('V', 'P')\n",
    "\n",
    "    panel_opciones.Strike.values[fila] = panel_opciones.Especie.values[fila][4:8]\n",
    "\n",
    "    panel_opciones.ExpiryMonthName.values[fila] = panel_opciones.Especie.values[fila][8:10]\n",
    "\n",
    "    try:\n",
    "        int(panel_opciones.ExpiryMonthName.values[fila][0])\n",
    "        panel_opciones.Strike.values[fila] = float(panel_opciones.Strike.values[fila] + int(panel_opciones.ExpiryMonthName.values[fila][0]))\n",
    "        panel_opciones.ExpiryMonthName.values[fila] = panel_opciones.ExpiryMonthName.values[fila][1]\n",
    "    except:\n",
    "        panel_opciones.Strike.values[fila] = float(panel_opciones.Strike.values[fila])\n",
    "\n",
    "    try:\n",
    "        panel_opciones.ExpiryMonthNumber.values[fila] = mes_nombre_a_numero(panel_opciones.ExpiryMonthName.values[fila])\n",
    "    except:\n",
    "        panel_opciones.ExpiryMonthNumber.values[fila] = 0\n",
    "\n",
    "    panel_opciones.ExpiryDate.values[fila] = fecha_expiracion(panel_opciones.ExpiryMonthNumber.values[fila])\n",
    "\n",
    "\n",
    "    panel_opciones.Spot.values[fila] = obtener_spot_ticker(panel_acciones, panel_opciones.Ticker_Stock.values[fila])\n",
    "\n",
    "\n",
    "    hoy = datetime.date.today()\n",
    "    panel_opciones.TTM.values[fila] = (panel_opciones.ExpiryDate.values[fila] - hoy).days\n",
    "\n",
    "    panel_opciones.Moneyness.values[fila] = panel_opciones.Spot.values[fila] / panel_opciones.Strike.values[fila]\n",
    "\n"
   ]
  },
  {
   "cell_type": "code",
   "execution_count": null,
   "metadata": {},
   "outputs": [],
   "source": [
    "#Asi queda entonces el panel\n",
    "panel_opciones"
   ]
  },
  {
   "cell_type": "markdown",
   "metadata": {},
   "source": [
    "#### 4) Filtro por ticker\n"
   ]
  },
  {
   "cell_type": "code",
   "execution_count": null,
   "metadata": {},
   "outputs": [],
   "source": [
    "#Si se provee un ticker, se filtra por ticker, si no, se provee el panel completo\n",
    "\n",
    "ticker = 'ALUA'\n",
    "\n",
    "if ticker == '':\n",
    "    pass\n",
    "else:\n",
    "    panel_opciones = panel_opciones[panel_opciones.Ticker_Stock == ticker]\n",
    "    \n",
    "panel_opciones"
   ]
  },
  {
   "cell_type": "markdown",
   "metadata": {},
   "source": [
    "#### 5) Panel limpio"
   ]
  },
  {
   "cell_type": "code",
   "execution_count": null,
   "metadata": {},
   "outputs": [],
   "source": [
    "panel_limpio = panel_opciones.copy()\n",
    "\n",
    "clean_flag = True\n",
    "\n",
    "# Panel limpio: cambio de nombre, reordenamiento y limpieza minima del panel\n",
    "if clean_flag == True:\n",
    "    # Sacar opciones sobre bonos\n",
    "    panel_limpio = panel_limpio[~panel_limpio.Especie.str.contains('A24')]\n",
    "\n",
    "    panel_limpio = panel_limpio[\n",
    "            ['Especie', 'Ticker_Stock', 'Spot', 'Tipo', 'Strike', 'TTM', 'Último', 'Moneyness']]\n",
    "\n",
    "    panel_limpio = panel_limpio.rename(\n",
    "            columns={'Ticker_Stock': 'Ticker', 'Tipo': 'CallPut', 'Último': 'Last'}, inplace=False)\n",
    "\n",
    "    panel_limpio = panel_limpio.sort_values(['TTM', 'Ticker', 'Strike', 'CallPut'])\n",
    "\n",
    "    # Remover TTMs mayores de un año o negativos (por algun error)\n",
    "    panel_limpio = panel_limpio[panel_limpio.TTM < 364]\n",
    "    panel_limpio = panel_limpio[panel_limpio.TTM > 0]\n",
    "\n",
    "    panel_limpio = panel_limpio.reset_index()\n",
    "    del panel_limpio['index']\n",
    "    \n",
    "panel_limpio"
   ]
  },
  {
   "cell_type": "markdown",
   "metadata": {},
   "source": [
    "## Ploteando los datos"
   ]
  },
  {
   "cell_type": "markdown",
   "metadata": {},
   "source": [
    "### Para cada vencimiento, grafico los strikes"
   ]
  },
  {
   "cell_type": "code",
   "execution_count": null,
   "metadata": {},
   "outputs": [],
   "source": [
    "# BYMA\n",
    "\n",
    "\n",
    "panel_opciones_ggal_byma_limpio = obtener_panel_opciones_byma('GGAL', True)\n",
    "\n",
    "TTMs = list(set(panel_opciones_ggal_byma_limpio.TTM.values))\n",
    "TTMs"
   ]
  },
  {
   "cell_type": "code",
   "execution_count": null,
   "metadata": {},
   "outputs": [],
   "source": [
    "\n"
   ]
  },
  {
   "cell_type": "code",
   "execution_count": null,
   "metadata": {},
   "outputs": [],
   "source": [
    "# El proximo vencimiento (usualemtne mas liquido)\n",
    "TTM = min(TTMs)\n",
    "\n",
    "panel_opciones_ggal_byma_limpio[(panel_opciones_ggal_byma_limpio.TTM == TTM)].head(20)"
   ]
  },
  {
   "cell_type": "code",
   "execution_count": null,
   "metadata": {},
   "outputs": [],
   "source": [
    "from matplotlib import pyplot as plt\n",
    "CP = \"C\"\n",
    "for TTM in TTMs:\n",
    "    Ks = panel_opciones_ggal_byma_limpio[(panel_opciones_ggal_byma_limpio.TTM == TTM) & (panel_opciones_ggal_byma_limpio.CallPut == CP)].Strike.values\n",
    "    precios = panel_opciones_ggal_byma_limpio[(panel_opciones_ggal_byma_limpio.TTM == TTM) & (panel_opciones_ggal_byma_limpio.CallPut == CP)].Last.values\n",
    "    plt.plot(Ks, precios,'*', label='TTM = '+str(TTM))\n",
    "\n",
    "\n",
    "plt.legend()\n",
    "\n",
    "plt.xlabel('Strike')\n",
    "plt.ylabel('Precio de mercado del Call')\n",
    "plt.title('Precio de mercado de las opciones Call con respecto al Strike')\n",
    "    \n",
    "plt.show()\n",
    "    "
   ]
  },
  {
   "cell_type": "code",
   "execution_count": null,
   "metadata": {},
   "outputs": [],
   "source": [
    "\n",
    "CP = \"P\"\n",
    "for TTM in TTMs:\n",
    "    Ks = panel_opciones_ggal_byma_limpio[(panel_opciones_ggal_byma_limpio.TTM == TTM) & (panel_opciones_ggal_byma_limpio.CallPut == CP)].Strike.values\n",
    "    precios = panel_opciones_ggal_byma_limpio[(panel_opciones_ggal_byma_limpio.TTM == TTM) & (panel_opciones_ggal_byma_limpio.CallPut == CP)].Last.values\n",
    "    plt.plot(Ks, precios,'*', label='TTM = '+str(TTM))\n",
    "\n",
    "\n",
    "plt.legend()\n",
    "\n",
    "plt.xlabel('Strike')\n",
    "plt.ylabel('Precio de mercado del Call')\n",
    "plt.title('Precio de mercado de las opciones Call con respecto al Strike')\n",
    "    \n",
    "plt.show()"
   ]
  },
  {
   "cell_type": "code",
   "execution_count": null,
   "metadata": {},
   "outputs": [],
   "source": [
    "Ks = list(set(panel_opciones_ggal_byma_limpio.Strike.values))"
   ]
  },
  {
   "cell_type": "code",
   "execution_count": null,
   "metadata": {},
   "outputs": [],
   "source": [
    "\n",
    "CP = \"C\"\n",
    "for K in Ks:\n",
    "    TTMs = panel_opciones_ggal_byma_limpio[(panel_opciones_ggal_byma_limpio.Strike == K) & (panel_opciones_ggal_byma_limpio.CallPut == CP)].Strike.values\n",
    "    precios = panel_opciones_ggal_byma_limpio[(panel_opciones_ggal_byma_limpio.Strike == K) & (panel_opciones_ggal_byma_limpio.CallPut == CP)].Last.values\n",
    "    if len(TTMs)>1:\n",
    "        plt.plot(TTMs, precios,'*', label='Strike = '+str(K))\n",
    "\n",
    "plt.legend()\n",
    "\n",
    "plt.xlabel('TTM')\n",
    "plt.ylabel('Precio de mercado del Call')\n",
    "plt.title('Precio de mercado de las opciones Call con respecto al TTM')\n",
    "    \n",
    "plt.show()\n",
    "    "
   ]
  },
  {
   "cell_type": "code",
   "execution_count": null,
   "metadata": {},
   "outputs": [],
   "source": []
  },
  {
   "cell_type": "code",
   "execution_count": null,
   "metadata": {},
   "outputs": [],
   "source": []
  }
 ],
 "metadata": {
  "kernelspec": {
   "display_name": "Python 3",
   "language": "python",
   "name": "python3"
  },
  "language_info": {
   "codemirror_mode": {
    "name": "ipython",
    "version": 3
   },
   "file_extension": ".py",
   "mimetype": "text/x-python",
   "name": "python",
   "nbconvert_exporter": "python",
   "pygments_lexer": "ipython3",
   "version": "3.7.6"
  }
 },
 "nbformat": 4,
 "nbformat_minor": 4
}
