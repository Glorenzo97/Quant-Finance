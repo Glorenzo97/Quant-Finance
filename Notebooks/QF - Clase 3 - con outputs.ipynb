{
 "cells": [
  {
   "cell_type": "markdown",
   "metadata": {},
   "source": [
    "# Modelo Binomial"
   ]
  },
  {
   "cell_type": "code",
   "execution_count": 1,
   "metadata": {},
   "outputs": [],
   "source": [
    "import math\n",
    "import numpy as np\n",
    "\n",
    "import sys\n",
    "sys.path.append('..')\n",
    "#Para poder leer los modulos dentro del directorio \n",
    "from Codigo.opcion_europea_bin import opcion_europea_bin\n",
    "from Codigo.opcion_europea_bin_c import opcion_europea_bin_c\n",
    "from Codigo.opcion_americana_bin import opcion_americana_bin\n",
    "from Codigo.opcion_europea_bs import opcion_europea_bs\n",
    "\n"
   ]
  },
  {
   "cell_type": "markdown",
   "metadata": {},
   "source": [
    "Definicion:\n",
    "    Calculador del precio de una opcion Europea con el modelo del Arbol Binomial (CRR)\n",
    "\n",
    "Inputs:\n",
    "    - tipo : string - Tipo de contrato entre [\"CALL\",\"PUT\"]\n",
    "    - S : float - Spot price del activo\n",
    "    - K : float - Strike price del contrato\n",
    "    - T : float - Tiempo hasta la expiracion (en años)\n",
    "    - r : float - Tasa 'libre de riesgo' (anualizada)\n",
    "    - sigma : float - Volatilidad implicita (anualizada)\n",
    "    - div : float - Tasa de dividendos continuos (anualizada)\n",
    "    - pasos : int - Cantidad de pasos del arbol binomial\n",
    "\n",
    "Outputs:\n",
    "    - precio_BIN: float - Precio del contrato\n"
   ]
  },
  {
   "cell_type": "code",
   "execution_count": 2,
   "metadata": {},
   "outputs": [
    {
     "data": {
      "text/plain": [
       "12.311309716876167"
      ]
     },
     "execution_count": 2,
     "metadata": {},
     "output_type": "execute_result"
    }
   ],
   "source": [
    "#Paramtros del metodo\n",
    "\n",
    "tipo = \"CALL\"\n",
    "S = 100\n",
    "K = 100\n",
    "T = 1\n",
    "r = 0.05\n",
    "sigma = 0.25\n",
    "div = 0\n",
    "pasos = 100\n",
    "\n",
    "\n",
    "precio = opcion_europea_bin(tipo, S, K, T, r, sigma, div, pasos)\n",
    "precio"
   ]
  },
  {
   "cell_type": "markdown",
   "metadata": {},
   "source": [
    "## Desglosando el metodo"
   ]
  },
  {
   "cell_type": "markdown",
   "metadata": {},
   "source": [
    "### 1) Inicializo los parametros"
   ]
  },
  {
   "cell_type": "code",
   "execution_count": 3,
   "metadata": {},
   "outputs": [],
   "source": [
    "tipo = \"CALL\"\n",
    "S = 100\n",
    "K = 100\n",
    "T = 1\n",
    "r = 0.05\n",
    "sigma = 0.25\n",
    "div = 0\n",
    "pasos = 4"
   ]
  },
  {
   "cell_type": "markdown",
   "metadata": {},
   "source": [
    "### 2) Variables auxiliares"
   ]
  },
  {
   "cell_type": "code",
   "execution_count": 4,
   "metadata": {},
   "outputs": [],
   "source": [
    "#auxiliares\n",
    "dt = T / pasos\n",
    "tasa_forward = math.exp((r - div) * dt)\n",
    "descuento = math.exp(-r * dt)\n"
   ]
  },
  {
   "cell_type": "markdown",
   "metadata": {},
   "source": [
    "### 3) Parametros del Modelo (en este caso el CRR)"
   ]
  },
  {
   "cell_type": "code",
   "execution_count": 5,
   "metadata": {},
   "outputs": [],
   "source": [
    "#modelo CRR\n",
    "u = math.exp(sigma * math.pow(dt, 0.5))\n",
    "d = 1 / u\n",
    "#probabilidad de riesgo neutral\n",
    "q_prob = (tasa_forward - d) / (u - d)"
   ]
  },
  {
   "cell_type": "markdown",
   "metadata": {},
   "source": [
    "### 4) Vector de precios finales (ultima rama del arbol)"
   ]
  },
  {
   "cell_type": "code",
   "execution_count": 6,
   "metadata": {},
   "outputs": [
    {
     "data": {
      "text/plain": [
       "array([164.87212707, 128.40254167, 100.        ,  77.88007831,\n",
       "        60.65306597])"
      ]
     },
     "execution_count": 6,
     "metadata": {},
     "output_type": "execute_result"
    }
   ],
   "source": [
    "#Precios finales\n",
    "ST_precios=np.zeros((pasos+1))\n",
    "\n",
    "for i in range(0,pasos+1):\n",
    "    ST_precios[pasos-i] = math.pow(u, 2 * i - pasos) * S\n",
    "    \n",
    "ST_precios"
   ]
  },
  {
   "cell_type": "markdown",
   "metadata": {},
   "source": [
    "### 5) Matrix (representa el arbol) de precios de la opcion - Payoff"
   ]
  },
  {
   "cell_type": "code",
   "execution_count": 7,
   "metadata": {},
   "outputs": [
    {
     "name": "stdout",
     "output_type": "stream",
     "text": [
      "array([[ 0.        ,  0.        ,  0.        ,  0.        , 64.87212707],\n",
      "       [ 0.        ,  0.        ,  0.        ,  0.        , 28.40254167],\n",
      "       [ 0.        ,  0.        ,  0.        ,  0.        ,  0.        ],\n",
      "       [ 0.        ,  0.        ,  0.        ,  0.        ,  0.        ],\n",
      "       [ 0.        ,  0.        ,  0.        ,  0.        ,  0.        ]])\n"
     ]
    }
   ],
   "source": [
    "from pprint import pprint as pp\n",
    "#Matriz de precios de la opcion\n",
    "opcion_precios = np.zeros((pasos+1, pasos+1))\n",
    "\n",
    "#Payoff\n",
    "for i in range (0, pasos+1):\n",
    "    if tipo == \"PUT\":\n",
    "        opcion_precios[i][pasos] = max(0, (K - ST_precios[i]))\n",
    "    elif tipo == \"CALL\":\n",
    "        opcion_precios[i][pasos] = max(0, (ST_precios[i] - K))\n",
    "        \n",
    "pp(opcion_precios)"
   ]
  },
  {
   "cell_type": "markdown",
   "metadata": {},
   "source": [
    "### 6) Recorro el arbol columna por columna"
   ]
  },
  {
   "cell_type": "code",
   "execution_count": 8,
   "metadata": {},
   "outputs": [
    {
     "data": {
      "text/plain": [
       "array([[ 0.        ,  0.        ,  0.        , 46.74136141, 64.87212707],\n",
       "       [ 0.        ,  0.        ,  0.        , 14.55706526, 28.40254167],\n",
       "       [ 0.        ,  0.        ,  0.        ,  0.        ,  0.        ],\n",
       "       [ 0.        ,  0.        ,  0.        ,  0.        ,  0.        ],\n",
       "       [ 0.        ,  0.        ,  0.        ,  0.        ,  0.        ]])"
      ]
     },
     "execution_count": 8,
     "metadata": {},
     "output_type": "execute_result"
    }
   ],
   "source": [
    "j = 1\n",
    "for i in range(0, pasos+1 - j):\n",
    "    opcion_precios[i][pasos - j] = descuento * (q_prob * opcion_precios[i][pasos - j + 1] + (1  - q_prob) * opcion_precios[i + 1][pasos - j + 1])\n",
    "\n",
    "opcion_precios   "
   ]
  },
  {
   "cell_type": "code",
   "execution_count": 9,
   "metadata": {},
   "outputs": [
    {
     "data": {
      "text/plain": [
       "array([[ 0.        ,  0.        , 30.87155047, 46.74136141, 64.87212707],\n",
       "       [ 0.        ,  0.        ,  7.46088682, 14.55706526, 28.40254167],\n",
       "       [ 0.        ,  0.        ,  0.        ,  0.        ,  0.        ],\n",
       "       [ 0.        ,  0.        ,  0.        ,  0.        ,  0.        ],\n",
       "       [ 0.        ,  0.        ,  0.        ,  0.        ,  0.        ]])"
      ]
     },
     "execution_count": 9,
     "metadata": {},
     "output_type": "execute_result"
    }
   ],
   "source": [
    "j = 2\n",
    "for i in range(0, pasos+1 - j):\n",
    "    opcion_precios[i][pasos - j] = descuento * (q_prob * opcion_precios[i][pasos - j + 1] + (1  - q_prob) * opcion_precios[i + 1][pasos - j + 1])\n",
    "\n",
    "opcion_precios "
   ]
  },
  {
   "cell_type": "code",
   "execution_count": 10,
   "metadata": {},
   "outputs": [
    {
     "data": {
      "text/plain": [
       "array([[ 0.        , 19.36679993, 30.87155047, 46.74136141, 64.87212707],\n",
       "       [ 0.        ,  3.82390483,  7.46088682, 14.55706526, 28.40254167],\n",
       "       [ 0.        ,  0.        ,  0.        ,  0.        ,  0.        ],\n",
       "       [ 0.        ,  0.        ,  0.        ,  0.        ,  0.        ],\n",
       "       [ 0.        ,  0.        ,  0.        ,  0.        ,  0.        ]])"
      ]
     },
     "execution_count": 10,
     "metadata": {},
     "output_type": "execute_result"
    }
   ],
   "source": [
    "j = 3\n",
    "for i in range(0, pasos+1 - j):\n",
    "    opcion_precios[i][pasos - j] = descuento * (q_prob * opcion_precios[i][pasos - j + 1] + (1  - q_prob) * opcion_precios[i + 1][pasos - j + 1])\n",
    "\n",
    "opcion_precios "
   ]
  },
  {
   "cell_type": "code",
   "execution_count": 11,
   "metadata": {},
   "outputs": [
    {
     "data": {
      "text/plain": [
       "array([[11.74255461, 19.36679993, 30.87155047, 46.74136141, 64.87212707],\n",
       "       [ 0.        ,  3.82390483,  7.46088682, 14.55706526, 28.40254167],\n",
       "       [ 0.        ,  0.        ,  0.        ,  0.        ,  0.        ],\n",
       "       [ 0.        ,  0.        ,  0.        ,  0.        ,  0.        ],\n",
       "       [ 0.        ,  0.        ,  0.        ,  0.        ,  0.        ]])"
      ]
     },
     "execution_count": 11,
     "metadata": {},
     "output_type": "execute_result"
    }
   ],
   "source": [
    "j = 4\n",
    "for i in range(0, pasos+1 - j):\n",
    "    opcion_precios[i][pasos - j] = descuento * (q_prob * opcion_precios[i][pasos - j + 1] + (1  - q_prob) * opcion_precios[i + 1][pasos - j + 1])\n",
    "\n",
    "opcion_precios "
   ]
  },
  {
   "cell_type": "markdown",
   "metadata": {},
   "source": [
    "### 7) Precio de la opcion, primer nodo del arbol "
   ]
  },
  {
   "cell_type": "code",
   "execution_count": 12,
   "metadata": {},
   "outputs": [
    {
     "name": "stdout",
     "output_type": "stream",
     "text": [
      "11.742554611618315\n"
     ]
    }
   ],
   "source": [
    "precio_BIN_eur = opcion_precios[0][0]\n",
    "pp(precio_BIN_eur)"
   ]
  },
  {
   "cell_type": "markdown",
   "metadata": {},
   "source": [
    "## Formula Cerrada"
   ]
  },
  {
   "cell_type": "markdown",
   "metadata": {},
   "source": [
    "Volvemos a inicializar todas las variables\n"
   ]
  },
  {
   "cell_type": "code",
   "execution_count": 13,
   "metadata": {},
   "outputs": [],
   "source": [
    "import operator as op\n",
    "from functools import reduce\n",
    "def ncr(n, r):\n",
    "    r = min(r, n-r)\n",
    "    numer = reduce(op.mul, range(n, n-r, -1), 1)\n",
    "    denom = reduce(op.mul, range(1, r+1), 1)\n",
    "    return numer // denom  # or / in Python 2\n",
    "\n",
    "\n",
    "def nCr(n, r):\n",
    "    f = math.factorial\n",
    "    return f(n) / f(r) / f(n - r)"
   ]
  },
  {
   "cell_type": "code",
   "execution_count": null,
   "metadata": {},
   "outputs": [],
   "source": []
  },
  {
   "cell_type": "code",
   "execution_count": 14,
   "metadata": {},
   "outputs": [],
   "source": [
    "tipo = \"CALL\"\n",
    "S = 100\n",
    "K = 100\n",
    "T = 1\n",
    "r = 0.05\n",
    "sigma = 0.25\n",
    "div = 0\n",
    "pasos = 100\n",
    "\n",
    "\n",
    "#auxiliares\n",
    "dt = T / pasos\n",
    "tasa_forward = math.exp((r - div) * dt)\n",
    "descuento = math.exp(-r * dt)\n",
    "\n",
    "#modelo CRR\n",
    "u = math.exp(sigma * math.pow(dt, 0.5))\n",
    "d = 1 / u\n",
    "#probabilidad de riesgo neutral\n",
    "q_prob = (tasa_forward - d) / (u - d)\n"
   ]
  },
  {
   "cell_type": "code",
   "execution_count": 15,
   "metadata": {},
   "outputs": [
    {
     "data": {
      "text/plain": [
       "12.311309716876048"
      ]
     },
     "execution_count": 15,
     "metadata": {},
     "output_type": "execute_result"
    }
   ],
   "source": [
    "temp = 0\n",
    "\n",
    "for k in range(pasos):\n",
    "    if tipo == \"CALL\":\n",
    "        payoff = max(0, S * math.pow(u,k) * math.pow(d,pasos-k)-K)\n",
    "    elif tipo == \"PUT\":\n",
    "        payoff = max(0, K - S * math.pow(u, k) * math.pow(d, pasos - k))\n",
    "    temp = temp +ncr(pasos, k) * math.pow(q_prob,k) * math.pow((1-q_prob),pasos-k) * payoff\n",
    "\n",
    "precio_BIN_c = math.exp(-r*T)*temp\n",
    "    \n",
    "precio_BIN_c"
   ]
  },
  {
   "cell_type": "markdown",
   "metadata": {},
   "source": [
    "## Americana"
   ]
  },
  {
   "cell_type": "code",
   "execution_count": 16,
   "metadata": {},
   "outputs": [],
   "source": [
    "tipo = \"CALL\"\n",
    "S = 100\n",
    "K = 100\n",
    "T = 1\n",
    "r = 0.05\n",
    "sigma = 0.25\n",
    "div = 0\n",
    "pasos = 100\n",
    "\n",
    "\n",
    "#Precios finales\n",
    "ST_precios=np.zeros((pasos+1))\n",
    "\n",
    "for i in range(0,pasos+1):\n",
    "    ST_precios[pasos-i] = math.pow(u, 2 * i - pasos) * S\n",
    "    \n",
    "ST_precios\n",
    "opcion_precios = np.zeros((pasos+1, pasos+1))\n",
    "\n",
    "\n"
   ]
  },
  {
   "cell_type": "markdown",
   "metadata": {},
   "source": [
    "En el caso de una opcion americana, en cada punto del nodo tendremos que evaluar si nos conviene ejercer o no. Eso se resuelve de manera muy simple."
   ]
  },
  {
   "cell_type": "code",
   "execution_count": 17,
   "metadata": {},
   "outputs": [
    {
     "name": "stdout",
     "output_type": "stream",
     "text": [
      "12.279962275608838\n"
     ]
    }
   ],
   "source": [
    "for j in range(1, pasos+1):\n",
    "    for i in range(0, pasos+1 - j):\n",
    "        # Calculo primero el valor como si no hubiera ejercicio temprano (europeo)\n",
    "        eur = q_prob * opcion_precios[i][pasos - j + 1] + (1  - q_prob) * opcion_precios[i + 1][pasos - j + 1]\n",
    "        #dependiendo del contrato, comparo el valor del valor 'europeo' contra ejercer en ese momento.\n",
    "        # S * math.pow(u,-2*i+pasos-j) codifica al arbol de los S\n",
    "        if tipo == \"PUT\":\n",
    "            opcion_precios[i][pasos - j] = descuento * max(eur, K - S * math.pow(u,-2*i+pasos-j))\n",
    "        elif tipo == \"CALL\":\n",
    "            opcion_precios[i][pasos - j] = descuento * max(eur, S * math.pow(u,-2*i+pasos-j) - K)\n",
    "\n",
    "precio_BIN_ame = opcion_precios[0][0]\n",
    "pp(precio_BIN_ame)      "
   ]
  },
  {
   "cell_type": "markdown",
   "metadata": {},
   "source": [
    "# Jugando con el pricer"
   ]
  },
  {
   "cell_type": "code",
   "execution_count": 18,
   "metadata": {},
   "outputs": [],
   "source": [
    "import matplotlib.pyplot as plt"
   ]
  },
  {
   "cell_type": "markdown",
   "metadata": {},
   "source": [
    "## Precio y payoff con respecto a S"
   ]
  },
  {
   "cell_type": "code",
   "execution_count": 19,
   "metadata": {},
   "outputs": [
    {
     "data": {
      "image/png": "[encoded data removed]",
      "text/plain": [
       "<Figure size 432x288 with 1 Axes>"
      ]
     },
     "metadata": {
      "needs_background": "light"
     },
     "output_type": "display_data"
    }
   ],
   "source": [
    "tipo = \"CALL\"\n",
    "S = 100\n",
    "K = 100\n",
    "T = 1\n",
    "r = 0.05\n",
    "sigma= 0.25\n",
    "div =0\n",
    "pasos = 1000\n",
    "\n",
    "S_MAX = 2*S\n",
    "S_vec = np.linspace(0,S_MAX,50)      \n",
    "precios = np.zeros(len(S_vec))\n",
    "payoff = np.zeros(len(S_vec))\n",
    "\n",
    "\n",
    "\n",
    "\n",
    "for index in range(len(S_vec)):\n",
    "    precios[index] = opcion_europea_bin_c(tipo, S_vec[index], K, T, r, sigma, div, pasos)\n",
    "    payoff[index] = max(0, S_vec[index]-K)\n",
    "plt.plot(S_vec,precios,'r', label='Precio')\n",
    "plt.plot(S_vec,payoff,'g', label='Payoff')\n",
    "plt.axvline(x=K, color = 'black', linestyle='--')\n",
    "\n",
    "plt.legend()\n",
    "\n",
    "plt.xlabel('Spot')\n",
    "plt.ylabel('Precio del Call')\n",
    "plt.title('Precio/Payoff de una opcion Call a tiempo inicial con respecto al spot')\n",
    "\n",
    "plt.show()"
   ]
  },
  {
   "cell_type": "code",
   "execution_count": 20,
   "metadata": {},
   "outputs": [
    {
     "data": {
      "image/png": "[encoded data removed]",
      "text/plain": [
       "<Figure size 432x288 with 1 Axes>"
      ]
     },
     "metadata": {
      "needs_background": "light"
     },
     "output_type": "display_data"
    }
   ],
   "source": [
    "tipo = \"PUT\"\n",
    "S = 100\n",
    "K = 100\n",
    "T = 1\n",
    "r = 0.05\n",
    "sigma= 0.25\n",
    "div =0\n",
    "pasos = 1000\n",
    "\n",
    "S_MAX = 2*S\n",
    "S_vec = np.linspace(0,S_MAX,50)      \n",
    "precios = np.zeros(len(S_vec))\n",
    "payoff = np.zeros(len(S_vec))\n",
    "\n",
    "\n",
    "\n",
    "\n",
    "for index in range(len(S_vec)):\n",
    "    precios[index] = opcion_europea_bin_c(tipo, S_vec[index], K, T, r, sigma, div, pasos)\n",
    "    payoff[index] = max(0, K-S_vec[index])\n",
    "plt.plot(S_vec,precios,'r', label='Precio')\n",
    "plt.plot(S_vec,payoff,'g', label='Payoff')\n",
    "plt.axvline(x=K, color = 'black', linestyle='--')\n",
    "\n",
    "plt.legend()\n",
    "\n",
    "plt.xlabel('Spot')\n",
    "plt.ylabel('Precio del Put')\n",
    "plt.title('Precio/Payoff de una opcion Put a tiempo inicial con respecto al spot')\n",
    "\n",
    "plt.show()"
   ]
  },
  {
   "cell_type": "markdown",
   "metadata": {},
   "source": [
    "## Precio con respecto al Strike"
   ]
  },
  {
   "cell_type": "code",
   "execution_count": 21,
   "metadata": {},
   "outputs": [
    {
     "data": {
      "image/png": "[encoded data removed]",
      "text/plain": [
       "<Figure size 432x288 with 1 Axes>"
      ]
     },
     "metadata": {
      "needs_background": "light"
     },
     "output_type": "display_data"
    }
   ],
   "source": [
    "tipo = \"CALL\"\n",
    "S = 100\n",
    "K = 100\n",
    "T = 1\n",
    "r = 0.05\n",
    "sigma= 0.25\n",
    "div =0\n",
    "pasos = 1000\n",
    "\n",
    "K_MAX = 2*S\n",
    "K_vec = np.linspace(0,K_MAX,50)      \n",
    "precios = np.zeros(len(K_vec))\n",
    "\n",
    "\n",
    "\n",
    "\n",
    "for index in range(len(K_vec)):\n",
    "    precios[index] = opcion_europea_bin_c(tipo, S, K_vec[index], T, r, sigma, div, pasos)\n",
    "\n",
    "plt.plot(K_vec,precios,'r', label='Strike')\n",
    "plt.axvline(x=S, color = 'black', linestyle='--')\n",
    "\n",
    "plt.legend()\n",
    "\n",
    "plt.xlabel('Spot')\n",
    "plt.ylabel('Precio del Call')\n",
    "plt.title('Precio de una opcion Call a tiempo inicial con respecto al strike')\n",
    "\n",
    "plt.show()"
   ]
  },
  {
   "cell_type": "code",
   "execution_count": 22,
   "metadata": {},
   "outputs": [
    {
     "data": {
      "image/png": "[encoded data removed]",
      "text/plain": [
       "<Figure size 432x288 with 1 Axes>"
      ]
     },
     "metadata": {
      "needs_background": "light"
     },
     "output_type": "display_data"
    }
   ],
   "source": [
    "tipo = \"PUT\"\n",
    "S = 100\n",
    "K = 100\n",
    "T = 1\n",
    "r = 0.05\n",
    "sigma= 0.25\n",
    "div =0\n",
    "pasos = 1000\n",
    "\n",
    "K_MAX = 2*S\n",
    "K_vec = np.linspace(0,K_MAX,50)      \n",
    "precios = np.zeros(len(K_vec))\n",
    "payoff = np.zeros(len(K_vec))\n",
    "\n",
    "\n",
    "\n",
    "\n",
    "for index in range(len(K_vec)):\n",
    "    precios[index] = opcion_europea_bin_c(tipo, S, K_vec[index], T, r, sigma, div, pasos)\n",
    "\n",
    "plt.plot(K_vec,precios,'r', label='Strike')\n",
    "plt.axvline(x=S, color = 'black', linestyle='--')\n",
    "\n",
    "plt.legend()\n",
    "\n",
    "plt.xlabel('Spot')\n",
    "plt.ylabel('Precio del Put')\n",
    "plt.title('Precio de una opcion Put a tiempo inicial con respecto al strike')\n",
    "\n",
    "plt.show()"
   ]
  },
  {
   "cell_type": "markdown",
   "metadata": {},
   "source": [
    "## Precio con respecto a sigma"
   ]
  },
  {
   "cell_type": "code",
   "execution_count": 23,
   "metadata": {},
   "outputs": [
    {
     "data": {
      "image/png": "[encoded data removed]",
      "text/plain": [
       "<Figure size 432x288 with 1 Axes>"
      ]
     },
     "metadata": {
      "needs_background": "light"
     },
     "output_type": "display_data"
    }
   ],
   "source": [
    "tipo = \"CALL\"\n",
    "S = 100\n",
    "K = 100\n",
    "T = 1\n",
    "r = 0.05\n",
    "sigma= 0.25\n",
    "div =0\n",
    "pasos = 1000\n",
    "\n",
    "sigma_MAX = 8*sigma\n",
    "sigma_vec = np.linspace(0,sigma_MAX,50)      \n",
    "precios = np.zeros(len(sigma_vec))\n",
    "\n",
    "for index in range(1,len(sigma_vec)):\n",
    "    precios[index] = opcion_europea_bin_c(tipo, S, K, T, r, sigma_vec[index], div, pasos)\n",
    "plt.plot(sigma_vec,precios,'r', label='Precio')\n",
    "plt.legend()\n",
    "\n",
    "plt.xlabel('Volatilidad implicita')\n",
    "plt.ylabel('Precio del Call')\n",
    "plt.title('Precio de una opcion Call a tiempo inicial con respecto a la volatilidad implicita')\n",
    "\n",
    "plt.show()"
   ]
  },
  {
   "cell_type": "code",
   "execution_count": 24,
   "metadata": {},
   "outputs": [
    {
     "data": {
      "image/png": "[encoded data removed]",
      "text/plain": [
       "<Figure size 432x288 with 1 Axes>"
      ]
     },
     "metadata": {
      "needs_background": "light"
     },
     "output_type": "display_data"
    }
   ],
   "source": [
    "tipo = \"PUT\"\n",
    "S = 100\n",
    "K = 100\n",
    "T = 1\n",
    "r = 0.05\n",
    "sigma= 0.25\n",
    "div =0\n",
    "pasos = 1000\n",
    "\n",
    "sigma_MAX = 8*sigma\n",
    "sigma_vec = np.linspace(0,sigma_MAX,50)      \n",
    "precios = np.zeros(len(sigma_vec))\n",
    "\n",
    "for index in range(1,len(sigma_vec)):\n",
    "    precios[index] = opcion_europea_bin_c(tipo, S, K, T, r, sigma_vec[index], div, pasos)\n",
    "plt.plot(sigma_vec,precios,'r', label='Precio')\n",
    "plt.legend()\n",
    "\n",
    "plt.xlabel('Volatilidad implicita')\n",
    "plt.ylabel('Precio del Put')\n",
    "plt.title('Precio de una opcion Put a tiempo inicial con respecto a la volatilidad implicita')\n",
    "\n",
    "plt.show()"
   ]
  },
  {
   "cell_type": "markdown",
   "metadata": {},
   "source": [
    "## Precio con respecto a TTM"
   ]
  },
  {
   "cell_type": "code",
   "execution_count": 25,
   "metadata": {},
   "outputs": [
    {
     "data": {
      "image/png": "[encoded data removed]",
      "text/plain": [
       "<Figure size 432x288 with 1 Axes>"
      ]
     },
     "metadata": {
      "needs_background": "light"
     },
     "output_type": "display_data"
    }
   ],
   "source": [
    "tipo = \"CALL\"\n",
    "S = 100\n",
    "K = 100\n",
    "T = 1\n",
    "r = 0.05\n",
    "sigma= 0.25\n",
    "div =0\n",
    "pasos = 1000\n",
    "\n",
    "T_MAX = 2*T\n",
    "T_vec = np.linspace(0,T_MAX,50)      \n",
    "precios = np.zeros(len(T_vec))\n",
    "\n",
    "for index in range(1,len(T_vec)):\n",
    "    precios[index] = opcion_europea_bin_c(tipo, S, K, T_vec[index], r, sigma, div, pasos)\n",
    "plt.plot(T_vec,precios,'r', label='Precio')\n",
    "plt.legend()\n",
    "\n",
    "plt.xlabel('Tiempo de expiracion en años')\n",
    "plt.ylabel('Precio del Call')\n",
    "plt.title('Precio de una opcion Call a tiempo inicial con respecto al tiempo de expiracion')\n",
    "\n",
    "plt.show()"
   ]
  },
  {
   "cell_type": "markdown",
   "metadata": {},
   "source": [
    "## Convergencia del Arbol Binomial"
   ]
  },
  {
   "cell_type": "code",
   "execution_count": 26,
   "metadata": {},
   "outputs": [],
   "source": [
    "tipo = \"CALL\"\n",
    "S = 100\n",
    "K = 100\n",
    "T = 1\n",
    "r = 0.05\n",
    "sigma= 0.25\n",
    "div =0\n",
    "\n",
    "pasos_vec = [1,2,3,4,5,6,7,8,9,10,12,14,16,18,20,25,30,40,50,75,100,125,150,200,250,300]      \n",
    "precios = np.zeros(len(pasos_vec))\n",
    "\n",
    "for index in range(len(pasos_vec)):\n",
    "    precios[index] = opcion_europea_bin(tipo, S, K, T, r, sigma, div, pasos_vec[index])\n",
    "    "
   ]
  },
  {
   "cell_type": "code",
   "execution_count": 27,
   "metadata": {},
   "outputs": [
    {
     "data": {
      "image/png": "[encoded data removed]",
      "text/plain": [
       "<Figure size 432x288 with 1 Axes>"
      ]
     },
     "metadata": {
      "needs_background": "light"
     },
     "output_type": "display_data"
    }
   ],
   "source": [
    "plt.plot(pasos_vec,precios,'*', label='Precio')\n",
    "plt.legend()\n",
    "\n",
    "plt.xlabel('Pasos del arbol Binomial')\n",
    "plt.ylabel('Precio del Call')\n",
    "plt.title('Precio de una opcion Call a tiempo inicial con respecto al numero de pasos del arbol')\n",
    "\n",
    "plt.show()"
   ]
  },
  {
   "cell_type": "markdown",
   "metadata": {},
   "source": [
    "## Europeas - Americanas\n"
   ]
  },
  {
   "cell_type": "markdown",
   "metadata": {},
   "source": [
    "### CALL sin dividendos"
   ]
  },
  {
   "cell_type": "code",
   "execution_count": 28,
   "metadata": {},
   "outputs": [
    {
     "data": {
      "image/png": "[encoded data removed]",
      "text/plain": [
       "<Figure size 432x288 with 1 Axes>"
      ]
     },
     "metadata": {
      "needs_background": "light"
     },
     "output_type": "display_data"
    },
    {
     "name": "stdout",
     "output_type": "stream",
     "text": [
      "Precio Opcion Europea:  12.323646460707344\n",
      "Precio Opcion Americana:  12.323646460707344\n"
     ]
    }
   ],
   "source": [
    "tipo = \"CALL\"\n",
    "K = 100\n",
    "T = 1\n",
    "r = 0.05\n",
    "sigma= 0.25\n",
    "div =0\n",
    "pasos = 200\n",
    "\n",
    "S_vec = np.linspace(0.5*S,1.5*S,50)      \n",
    "precios_eur = np.zeros(len(S_vec))\n",
    "precios_ame = np.zeros(len(S_vec))\n",
    "\n",
    "payoff = np.zeros(len(S_vec))\n",
    "\n",
    "\n",
    "for index in range(len(S_vec)):\n",
    "    precios_eur[index] = opcion_europea_bin(tipo, S_vec[index], K, T, r, sigma, div, pasos)\n",
    "    precios_ame[index] = opcion_americana_bin(tipo, S_vec[index], K, T, r, sigma, div, pasos)\n",
    "    \n",
    "    payoff[index] = max(0, S_vec[index]-K)\n",
    "\n",
    "plt.plot(S_vec,precios_eur,'r', label='Precio Europea')\n",
    "plt.plot(S_vec,precios_ame,'b', label='Precio Americana')\n",
    "\n",
    "plt.plot(S_vec,payoff,'g', label='Payoff')\n",
    "plt.axvline(x=K, color = 'black', linestyle='--')\n",
    "\n",
    "plt.legend()\n",
    "\n",
    "plt.xlabel('Spot')\n",
    "plt.ylabel('Precio del Call')\n",
    "plt.title('Precio/Payoff de una opcion Call a tiempo inicial con respecto al spot')\n",
    "\n",
    "plt.show()\n",
    "\n",
    "\n",
    "print(\"Precio Opcion Europea: \", opcion_europea_bin(tipo, S, K, T, r, sigma, div, pasos))\n",
    "print(\"Precio Opcion Americana: \", opcion_americana_bin(tipo, S, K, T, r, sigma, div, pasos))\n"
   ]
  },
  {
   "cell_type": "markdown",
   "metadata": {},
   "source": [
    "### PUT sin dividendos"
   ]
  },
  {
   "cell_type": "code",
   "execution_count": 29,
   "metadata": {},
   "outputs": [
    {
     "data": {
      "image/png": "[encoded data removed]",
      "text/plain": [
       "<Figure size 432x288 with 1 Axes>"
      ]
     },
     "metadata": {
      "needs_background": "light"
     },
     "output_type": "display_data"
    },
    {
     "name": "stdout",
     "output_type": "stream",
     "text": [
      "Precio Opcion Europea:  7.446588910777644\n",
      "Precio Opcion Americana:  7.967099044079217\n"
     ]
    }
   ],
   "source": [
    "tipo = \"PUT\"\n",
    "\n",
    "precios_eur = np.zeros(len(S_vec))\n",
    "precios_ame = np.zeros(len(S_vec))\n",
    "\n",
    "payoff = np.zeros(len(S_vec))\n",
    "\n",
    "for index in range(len(S_vec)):\n",
    "    precios_eur[index] = opcion_europea_bin(tipo, S_vec[index], K, T, r, sigma, div, pasos)\n",
    "    precios_ame[index] = opcion_americana_bin(tipo, S_vec[index], K, T, r, sigma, div, pasos)\n",
    "    \n",
    "    payoff[index] = max(0, K -S_vec[index])\n",
    "\n",
    "plt.plot(S_vec,precios_eur,'r', label='Precio Europea')\n",
    "plt.plot(S_vec,precios_ame,'b', label='Precio Americana')\n",
    "\n",
    "plt.plot(S_vec,payoff,'g', label='Payoff')\n",
    "plt.axvline(x=K, color = 'black', linestyle='--')\n",
    "\n",
    "plt.legend()\n",
    "\n",
    "plt.xlabel('Spot')\n",
    "plt.ylabel('Precio del Put')\n",
    "plt.title('Precio/Payoff de una opcion Put a tiempo inicial con respecto al spot')\n",
    "\n",
    "plt.show()\n",
    "\n",
    "\n",
    "print(\"Precio Opcion Europea: \", opcion_europea_bin(tipo, S, K, T, r, sigma, div, pasos))\n",
    "print(\"Precio Opcion Americana: \", opcion_americana_bin(tipo, S, K, T, r, sigma, div, pasos))\n"
   ]
  },
  {
   "cell_type": "markdown",
   "metadata": {},
   "source": [
    "### CALL con dividendos"
   ]
  },
  {
   "cell_type": "code",
   "execution_count": 30,
   "metadata": {},
   "outputs": [
    {
     "data": {
      "image/png": "[encoded data removed]",
      "text/plain": [
       "<Figure size 432x288 with 1 Axes>"
      ]
     },
     "metadata": {
      "needs_background": "light"
     },
     "output_type": "display_data"
    },
    {
     "name": "stdout",
     "output_type": "stream",
     "text": [
      "Precio Opcion Europea:  7.083414484093169\n",
      "Precio Opcion Americana:  7.74420234891751\n"
     ]
    }
   ],
   "source": [
    "tipo = \"CALL\"\n",
    "\n",
    "div = 0.1\n",
    "\n",
    "precios_eur = np.zeros(len(S_vec))\n",
    "precios_ame = np.zeros(len(S_vec))\n",
    "\n",
    "payoff = np.zeros(len(S_vec))\n",
    "\n",
    "for index in range(len(S_vec)):\n",
    "    precios_eur[index] = opcion_europea_bin(tipo, S_vec[index], K, T, r, sigma, div, pasos)\n",
    "    precios_ame[index] = opcion_americana_bin(tipo, S_vec[index], K, T, r, sigma, div, pasos)\n",
    "    \n",
    "    payoff[index] = max(0, S_vec[index]-K)\n",
    "\n",
    "plt.plot(S_vec,precios_eur,'r', label='Precio Europea')\n",
    "plt.plot(S_vec,precios_ame,'b', label='Precio Americana')\n",
    "\n",
    "plt.plot(S_vec,payoff,'g', label='Payoff')\n",
    "plt.axvline(x=K, color = 'black', linestyle='--')\n",
    "\n",
    "plt.legend()\n",
    "\n",
    "plt.xlabel('Spot')\n",
    "plt.ylabel('Precio del Call')\n",
    "plt.title('Precio/Payoff de una opcion Call a tiempo inicial con respecto al spot')\n",
    "\n",
    "plt.show()\n",
    "\n",
    "\n",
    "print(\"Precio Opcion Europea: \", opcion_europea_bin(tipo, S, K, T, r, sigma, div, pasos))\n",
    "print(\"Precio Opcion Americana: \", opcion_americana_bin(tipo, S, K, T, r, sigma, div, pasos))"
   ]
  },
  {
   "cell_type": "markdown",
   "metadata": {},
   "source": [
    "### PUT con dividendos"
   ]
  },
  {
   "cell_type": "code",
   "execution_count": 31,
   "metadata": {},
   "outputs": [
    {
     "data": {
      "image/png": "[encoded data removed]",
      "text/plain": [
       "<Figure size 432x288 with 1 Axes>"
      ]
     },
     "metadata": {
      "needs_background": "light"
     },
     "output_type": "display_data"
    },
    {
     "name": "stdout",
     "output_type": "stream",
     "text": [
      "Precio Opcion Europea:  11.722615130567634\n",
      "Precio Opcion Americana:  11.722837498895863\n"
     ]
    }
   ],
   "source": [
    "tipo = \"PUT\"\n",
    "\n",
    "div = 0.1\n",
    "\n",
    "precios_eur = np.zeros(len(S_vec))\n",
    "precios_ame = np.zeros(len(S_vec))\n",
    "\n",
    "payoff = np.zeros(len(S_vec))\n",
    "\n",
    "for index in range(len(S_vec)):\n",
    "    precios_eur[index] = opcion_europea_bin(tipo, S_vec[index], K, T, r, sigma, div, pasos)\n",
    "    precios_ame[index] = opcion_americana_bin(tipo, S_vec[index], K, T, r, sigma, div, pasos)\n",
    "    \n",
    "    payoff[index] = max(0, K -S_vec[index])\n",
    "\n",
    "plt.plot(S_vec,precios_eur,'r', label='Precio Europea')\n",
    "plt.plot(S_vec,precios_ame,'b', label='Precio Americana')\n",
    "\n",
    "plt.plot(S_vec,payoff,'g', label='Payoff')\n",
    "plt.axvline(x=K, color = 'black', linestyle='--')\n",
    "\n",
    "plt.legend()\n",
    "\n",
    "plt.xlabel('Spot')\n",
    "plt.ylabel('Precio del Put')\n",
    "plt.title('Precio/Payoff de una opcion Put a tiempo inicial con respecto al spot')\n",
    "\n",
    "plt.show()\n",
    "\n",
    "\n",
    "print(\"Precio Opcion Europea: \", opcion_europea_bin(tipo, S, K, T, r, sigma, div, pasos))\n",
    "print(\"Precio Opcion Americana: \", opcion_americana_bin(tipo, S, K, T, r, sigma, div, pasos))"
   ]
  },
  {
   "cell_type": "code",
   "execution_count": 32,
   "metadata": {},
   "outputs": [
    {
     "data": {
      "image/png": "[encoded data removed]",
      "text/plain": [
       "<Figure size 432x288 with 1 Axes>"
      ]
     },
     "metadata": {
      "needs_background": "light"
     },
     "output_type": "display_data"
    },
    {
     "name": "stdout",
     "output_type": "stream",
     "text": [
      "Precio Opcion Europea:  3.8826308421686395\n",
      "Precio Opcion Americana:  5.472394486862913\n"
     ]
    }
   ],
   "source": [
    "div = 0\n",
    "tipo = \"PUT\"\n",
    "r = 0.15\n",
    "\n",
    "precios_eur = np.zeros(len(T_vec))\n",
    "precios_ame = np.zeros(len(T_vec))\n",
    "\n",
    "\n",
    "\n",
    "for index in range(1,len(T_vec)):\n",
    "    precios_eur[index] = opcion_europea_bin(tipo, S, K, T_vec[index], r, sigma, div, pasos)\n",
    "    precios_ame[index] = opcion_americana_bin(tipo, S, K, T_vec[index], r, sigma, div, pasos)\n",
    "    \n",
    "    payoff[index] = max(0, S_vec[index]-K)\n",
    "\n",
    "plt.plot(T_vec,precios_eur,'r', label='Precio Europea')\n",
    "plt.plot(T_vec,precios_ame,'b', label='Precio Americana')\n",
    "\n",
    "plt.legend()\n",
    "\n",
    "plt.xlabel('TTM')\n",
    "plt.ylabel('Precio del Put')\n",
    "plt.title('Precio de una opcion Put a tiempo inicial con respecto al TTM')\n",
    "\n",
    "plt.show()\n",
    "\n",
    "\n",
    "print(\"Precio Opcion Europea: \", opcion_europea_bin(tipo, S, K, T, r, sigma, div, pasos))\n",
    "print(\"Precio Opcion Americana: \", opcion_americana_bin(tipo, S, K, T, r, sigma, div, pasos))"
   ]
  },
  {
   "cell_type": "markdown",
   "metadata": {},
   "source": [
    "## Black Scholes"
   ]
  },
  {
   "cell_type": "markdown",
   "metadata": {},
   "source": [
    "Si llegamos hasta aca, entonces estamos en condiciones de ver la formula de Black Scholes"
   ]
  },
  {
   "cell_type": "code",
   "execution_count": 33,
   "metadata": {},
   "outputs": [],
   "source": [
    "tipo = \"CALL\"\n",
    "K = 100\n",
    "T = 1\n",
    "r = 0.05\n",
    "sigma= 0.25\n",
    "div =0\n",
    "\n",
    "from scipy.stats import norm\n"
   ]
  },
  {
   "cell_type": "code",
   "execution_count": 34,
   "metadata": {},
   "outputs": [
    {
     "data": {
      "text/plain": [
       "12.335998930368717"
      ]
     },
     "execution_count": 34,
     "metadata": {},
     "output_type": "execute_result"
    }
   ],
   "source": [
    "\n",
    "\n",
    "#Defino los ds\n",
    "d1 = (math.log(S / K) + (r - div + 0.5 * sigma * sigma) * T) / sigma / math.sqrt(T)\n",
    "d2 = (math.log(S / K) + (r - div - 0.5 * sigma * sigma) * T) / sigma / math.sqrt(T)\n",
    "\n",
    "if tipo == \"CALL\":\n",
    "    precio_BS = math.exp(-div*T) *S * norm.cdf(d1) - K * math.exp(-r * T) * norm.cdf(d2)\n",
    "elif tipo == \"PUT\":\n",
    "    precio_BS = K * math.exp(-r * T) * norm.cdf(-d2) - math.exp(-div*T) * S * norm.cdf(-d1)\n",
    "    \n",
    "precio_BS    "
   ]
  },
  {
   "cell_type": "markdown",
   "metadata": {},
   "source": [
    "## Convergencia del Binomial hacia el precio de Black Scholes"
   ]
  },
  {
   "cell_type": "code",
   "execution_count": 35,
   "metadata": {},
   "outputs": [],
   "source": [
    "tipo = \"PUT\"\n",
    "S = 100\n",
    "K = 100\n",
    "T = 1\n",
    "r = 0.05\n",
    "sigma= 0.25\n",
    "div =0.2\n",
    "\n",
    "pasos_vec = [1,2,3,4,5,6,7,8,9,10,12,14,16,18,20,25,30,40,50,75,100,125,150,200,250,300]      \n",
    "precios = np.zeros(len(pasos_vec))\n",
    "\n",
    "for index in range(len(pasos_vec)):\n",
    "    precios[index] = opcion_europea_bin(tipo, S, K, T, r, sigma, div, pasos_vec[index])\n",
    " \n",
    "precio_BS = opcion_europea_bs(tipo, S, K, T, r, sigma, div)\n",
    "\n"
   ]
  },
  {
   "cell_type": "code",
   "execution_count": 36,
   "metadata": {},
   "outputs": [
    {
     "data": {
      "image/png": "[encoded data removed]",
      "text/plain": [
       "<Figure size 432x288 with 1 Axes>"
      ]
     },
     "metadata": {
      "needs_background": "light"
     },
     "output_type": "display_data"
    }
   ],
   "source": [
    "plt.axhline(y=precio_BS, color = 'black', linestyle='--', label='Precio BlackSholes')\n",
    "plt.plot(pasos_vec,precios,'*', label='Precio Binomial')\n",
    "\n",
    "plt.legend()\n",
    "\n",
    "plt.xlabel('Pasos del arbol Binomial')\n",
    "plt.ylabel('Precio de la opcion')\n",
    "plt.title('Precio de una opcion a tiempo inicial con respecto al numero de pasos del arbol')\n",
    "\n",
    "plt.show()"
   ]
  },
  {
   "cell_type": "markdown",
   "metadata": {},
   "source": [
    "## Convergencia del Binomial (con Americana) hacia el precio de Black Scholes"
   ]
  },
  {
   "cell_type": "code",
   "execution_count": 37,
   "metadata": {},
   "outputs": [],
   "source": [
    "tipo = \"CALL\"\n",
    "S = 100\n",
    "K = 100\n",
    "T = 1\n",
    "r = 0.05\n",
    "sigma= 0.25\n",
    "div =0.1\n",
    "\n",
    "pasos_vec = [1,2,3,4,5,6,7,8,9,10,12,14,16,18,20,25,30,40,50,75,100,125,150,200,250,300]      \n",
    "precios_eur = np.zeros(len(pasos_vec))\n",
    "precios_ame = np.zeros(len(pasos_vec))\n",
    "\n",
    "\n",
    "for index in range(len(pasos_vec)):\n",
    "    precios_eur[index] = opcion_europea_bin(tipo, S, K, T, r, sigma, div, pasos_vec[index])\n",
    "    precios_ame[index] = opcion_americana_bin(tipo, S, K, T, r, sigma, div, pasos_vec[index])\n",
    " \n",
    "precio_BS = opcion_europea_bs(tipo, S, K, T, r, sigma, div)\n",
    "\n"
   ]
  },
  {
   "cell_type": "code",
   "execution_count": 38,
   "metadata": {},
   "outputs": [
    {
     "data": {
      "image/png": "[encoded data removed]",
      "text/plain": [
       "<Figure size 432x288 with 1 Axes>"
      ]
     },
     "metadata": {
      "needs_background": "light"
     },
     "output_type": "display_data"
    }
   ],
   "source": [
    "plt.axhline(y=precio_BS, color = 'black', linestyle='--', label='Precio BlackSholes')\n",
    "plt.plot(pasos_vec,precios_eur,'*', label='Precio Binomial Europea')\n",
    "plt.plot(pasos_vec,precios_ame,'.', label='Precio Binomial Americana')\n",
    "\n",
    "plt.legend()\n",
    "\n",
    "plt.xlabel('Pasos del arbol Binomial')\n",
    "plt.ylabel('Precio de la opcion')\n",
    "plt.title('Precio de una opcion Call a tiempo inicial con respecto al numero de pasos del arbol')\n",
    "\n",
    "plt.show()"
   ]
  },
  {
   "cell_type": "markdown",
   "metadata": {},
   "source": [
    "## Saco una opcion del mercado y calculo su precio"
   ]
  },
  {
   "cell_type": "code",
   "execution_count": 39,
   "metadata": {},
   "outputs": [],
   "source": [
    "# Tomo un ticker e invoco al codigo de la clase pasada\n",
    "\n",
    "from Codigo.data_nyse import *\n",
    "ticker = 'FB'\n",
    "data = yf.Ticker(ticker)\n",
    "#Genero el panel\n",
    "panel_opciones = obtener_panel_opciones_nyse(ticker, True)\n",
    "\n"
   ]
  },
  {
   "cell_type": "code",
   "execution_count": 40,
   "metadata": {},
   "outputs": [
    {
     "data": {
      "text/html": [
       "<div>\n",
       "<style scoped>\n",
       "    .dataframe tbody tr th:only-of-type {\n",
       "        vertical-align: middle;\n",
       "    }\n",
       "\n",
       "    .dataframe tbody tr th {\n",
       "        vertical-align: top;\n",
       "    }\n",
       "\n",
       "    .dataframe thead th {\n",
       "        text-align: right;\n",
       "    }\n",
       "</style>\n",
       "<table border=\"1\" class=\"dataframe\">\n",
       "  <thead>\n",
       "    <tr style=\"text-align: right;\">\n",
       "      <th></th>\n",
       "      <th>Especie</th>\n",
       "      <th>Ticker</th>\n",
       "      <th>Spot</th>\n",
       "      <th>CallPut</th>\n",
       "      <th>Strike</th>\n",
       "      <th>TTM</th>\n",
       "      <th>Last</th>\n",
       "      <th>Moneyness</th>\n",
       "      <th>impliedVolatility</th>\n",
       "      <th>Ask</th>\n",
       "      <th>Bid</th>\n",
       "    </tr>\n",
       "  </thead>\n",
       "  <tbody>\n",
       "    <tr>\n",
       "      <th>0</th>\n",
       "      <td>FB200807C00110000</td>\n",
       "      <td>FB</td>\n",
       "      <td>251.335</td>\n",
       "      <td>C</td>\n",
       "      <td>110.0</td>\n",
       "      <td>4</td>\n",
       "      <td>143.80</td>\n",
       "      <td>2.284864</td>\n",
       "      <td>3.324220</td>\n",
       "      <td>143.90</td>\n",
       "      <td>140.35</td>\n",
       "    </tr>\n",
       "    <tr>\n",
       "      <th>1</th>\n",
       "      <td>FB200807C00115000</td>\n",
       "      <td>FB</td>\n",
       "      <td>251.335</td>\n",
       "      <td>C</td>\n",
       "      <td>115.0</td>\n",
       "      <td>4</td>\n",
       "      <td>138.70</td>\n",
       "      <td>2.185522</td>\n",
       "      <td>3.669923</td>\n",
       "      <td>138.90</td>\n",
       "      <td>136.00</td>\n",
       "    </tr>\n",
       "    <tr>\n",
       "      <th>907</th>\n",
       "      <td>FB200807P00115000</td>\n",
       "      <td>FB</td>\n",
       "      <td>251.335</td>\n",
       "      <td>P</td>\n",
       "      <td>115.0</td>\n",
       "      <td>4</td>\n",
       "      <td>0.06</td>\n",
       "      <td>2.185522</td>\n",
       "      <td>3.585939</td>\n",
       "      <td>0.84</td>\n",
       "      <td>0.00</td>\n",
       "    </tr>\n",
       "    <tr>\n",
       "      <th>2</th>\n",
       "      <td>FB200807C00120000</td>\n",
       "      <td>FB</td>\n",
       "      <td>251.335</td>\n",
       "      <td>C</td>\n",
       "      <td>120.0</td>\n",
       "      <td>4</td>\n",
       "      <td>132.80</td>\n",
       "      <td>2.094458</td>\n",
       "      <td>3.371095</td>\n",
       "      <td>133.80</td>\n",
       "      <td>130.90</td>\n",
       "    </tr>\n",
       "    <tr>\n",
       "      <th>908</th>\n",
       "      <td>FB200807P00120000</td>\n",
       "      <td>FB</td>\n",
       "      <td>251.335</td>\n",
       "      <td>P</td>\n",
       "      <td>120.0</td>\n",
       "      <td>4</td>\n",
       "      <td>0.10</td>\n",
       "      <td>2.094458</td>\n",
       "      <td>2.757816</td>\n",
       "      <td>0.16</td>\n",
       "      <td>0.00</td>\n",
       "    </tr>\n",
       "    <tr>\n",
       "      <th>...</th>\n",
       "      <td>...</td>\n",
       "      <td>...</td>\n",
       "      <td>...</td>\n",
       "      <td>...</td>\n",
       "      <td>...</td>\n",
       "      <td>...</td>\n",
       "      <td>...</td>\n",
       "      <td>...</td>\n",
       "      <td>...</td>\n",
       "      <td>...</td>\n",
       "      <td>...</td>\n",
       "    </tr>\n",
       "    <tr>\n",
       "      <th>1788</th>\n",
       "      <td>FB220916P00350000</td>\n",
       "      <td>FB</td>\n",
       "      <td>251.335</td>\n",
       "      <td>P</td>\n",
       "      <td>350.0</td>\n",
       "      <td>774</td>\n",
       "      <td>124.30</td>\n",
       "      <td>0.718100</td>\n",
       "      <td>0.338294</td>\n",
       "      <td>119.70</td>\n",
       "      <td>115.50</td>\n",
       "    </tr>\n",
       "    <tr>\n",
       "      <th>905</th>\n",
       "      <td>FB220916C00360000</td>\n",
       "      <td>FB</td>\n",
       "      <td>251.335</td>\n",
       "      <td>C</td>\n",
       "      <td>360.0</td>\n",
       "      <td>774</td>\n",
       "      <td>20.68</td>\n",
       "      <td>0.698153</td>\n",
       "      <td>0.350440</td>\n",
       "      <td>21.60</td>\n",
       "      <td>19.40</td>\n",
       "    </tr>\n",
       "    <tr>\n",
       "      <th>1789</th>\n",
       "      <td>FB220916P00360000</td>\n",
       "      <td>FB</td>\n",
       "      <td>251.335</td>\n",
       "      <td>P</td>\n",
       "      <td>360.0</td>\n",
       "      <td>774</td>\n",
       "      <td>135.50</td>\n",
       "      <td>0.698153</td>\n",
       "      <td>0.338553</td>\n",
       "      <td>128.00</td>\n",
       "      <td>123.35</td>\n",
       "    </tr>\n",
       "    <tr>\n",
       "      <th>906</th>\n",
       "      <td>FB220916C00370000</td>\n",
       "      <td>FB</td>\n",
       "      <td>251.335</td>\n",
       "      <td>C</td>\n",
       "      <td>370.0</td>\n",
       "      <td>774</td>\n",
       "      <td>18.50</td>\n",
       "      <td>0.679284</td>\n",
       "      <td>0.346427</td>\n",
       "      <td>19.45</td>\n",
       "      <td>18.70</td>\n",
       "    </tr>\n",
       "    <tr>\n",
       "      <th>1790</th>\n",
       "      <td>FB220916P00370000</td>\n",
       "      <td>FB</td>\n",
       "      <td>251.335</td>\n",
       "      <td>P</td>\n",
       "      <td>370.0</td>\n",
       "      <td>774</td>\n",
       "      <td>150.00</td>\n",
       "      <td>0.679284</td>\n",
       "      <td>0.335349</td>\n",
       "      <td>136.00</td>\n",
       "      <td>131.50</td>\n",
       "    </tr>\n",
       "  </tbody>\n",
       "</table>\n",
       "<p>1791 rows × 11 columns</p>\n",
       "</div>"
      ],
      "text/plain": [
       "                Especie Ticker     Spot CallPut  Strike  TTM    Last  \\\n",
       "0     FB200807C00110000     FB  251.335       C   110.0    4  143.80   \n",
       "1     FB200807C00115000     FB  251.335       C   115.0    4  138.70   \n",
       "907   FB200807P00115000     FB  251.335       P   115.0    4    0.06   \n",
       "2     FB200807C00120000     FB  251.335       C   120.0    4  132.80   \n",
       "908   FB200807P00120000     FB  251.335       P   120.0    4    0.10   \n",
       "...                 ...    ...      ...     ...     ...  ...     ...   \n",
       "1788  FB220916P00350000     FB  251.335       P   350.0  774  124.30   \n",
       "905   FB220916C00360000     FB  251.335       C   360.0  774   20.68   \n",
       "1789  FB220916P00360000     FB  251.335       P   360.0  774  135.50   \n",
       "906   FB220916C00370000     FB  251.335       C   370.0  774   18.50   \n",
       "1790  FB220916P00370000     FB  251.335       P   370.0  774  150.00   \n",
       "\n",
       "      Moneyness  impliedVolatility     Ask     Bid  \n",
       "0      2.284864           3.324220  143.90  140.35  \n",
       "1      2.185522           3.669923  138.90  136.00  \n",
       "907    2.185522           3.585939    0.84    0.00  \n",
       "2      2.094458           3.371095  133.80  130.90  \n",
       "908    2.094458           2.757816    0.16    0.00  \n",
       "...         ...                ...     ...     ...  \n",
       "1788   0.718100           0.338294  119.70  115.50  \n",
       "905    0.698153           0.350440   21.60   19.40  \n",
       "1789   0.698153           0.338553  128.00  123.35  \n",
       "906    0.679284           0.346427   19.45   18.70  \n",
       "1790   0.679284           0.335349  136.00  131.50  \n",
       "\n",
       "[1791 rows x 11 columns]"
      ]
     },
     "execution_count": 40,
     "metadata": {},
     "output_type": "execute_result"
    }
   ],
   "source": [
    "panel_opciones"
   ]
  },
  {
   "cell_type": "code",
   "execution_count": 41,
   "metadata": {},
   "outputs": [
    {
     "data": {
      "text/plain": [
       "18"
      ]
     },
     "execution_count": 41,
     "metadata": {},
     "output_type": "execute_result"
    }
   ],
   "source": [
    "# Tomo los TTMs y me quedo con alguno de ellos\n",
    "TTMs = list(set(panel_opciones.TTM.values))\n",
    "TTMs.sort()\n",
    "\n",
    "TTM=TTMs[2]\n",
    "TTM"
   ]
  },
  {
   "cell_type": "code",
   "execution_count": 42,
   "metadata": {},
   "outputs": [],
   "source": [
    "# elijo un tipo de opcion y tomo los strikes\n",
    "CP = \"P\"\n",
    "Ks = panel_opciones[(panel_opciones.TTM == TTM) & (panel_opciones.CallPut == CP)].Strike.values\n",
    "Ks_indexes = panel_opciones[(panel_opciones.TTM == TTM) & (panel_opciones.CallPut == CP)].Strike.index\n"
   ]
  },
  {
   "cell_type": "code",
   "execution_count": 43,
   "metadata": {},
   "outputs": [
    {
     "data": {
      "text/plain": [
       "1048"
      ]
     },
     "execution_count": 43,
     "metadata": {},
     "output_type": "execute_result"
    }
   ],
   "source": [
    "#Tomo el ATM strike\n",
    "K_atm_index = np.abs(Ks - panel_opciones.Spot.values[0]).argmin()\n",
    "\n",
    "K_ATM = Ks[K_atm_index]\n",
    "K_ATM\n",
    "K_ATM_index_df = panel_opciones[(panel_opciones.TTM == TTM) & (panel_opciones.CallPut == CP)&(panel_opciones.Strike==K_ATM)].Strike.index[0]\n",
    "K_ATM_index_df\n"
   ]
  },
  {
   "cell_type": "code",
   "execution_count": null,
   "metadata": {},
   "outputs": [],
   "source": [
    "# Saco de los datos de mercado los parametros necesarios para pricear\n",
    "\n",
    "tipo = \"PUT\"\n",
    "CP = 'P'\n",
    "S = panel_opciones.Spot.values[K_ATM_index_df]\n",
    "#S=11.94\n",
    "K = K_ATM\n",
    "T = TTM/365\n",
    "\n",
    "sigma = panel_opciones[(panel_opciones.TTM == TTM) & (panel_opciones.CallPut == CP) & (panel_opciones.Strike == K_ATM)].impliedVolatility.values[0]\n",
    "try:\n",
    "    div = float(data.info['dividendYield'])\n",
    "except:\n",
    "    div = 0.0\n",
    "\n",
    "pasos = 2000"
   ]
  },
  {
   "cell_type": "code",
   "execution_count": 49,
   "metadata": {},
   "outputs": [],
   "source": [
    "#tasa libre de riesgo de Libor1M - https://www.global-rates.com/en/interest-rates/libor/libor.aspx\n",
    "#r = 0.0045 #Libor1Y**\n",
    "r = 0.0015  #Libor1M**\n",
    "    "
   ]
  },
  {
   "cell_type": "code",
   "execution_count": 45,
   "metadata": {},
   "outputs": [
    {
     "data": {
      "text/plain": [
       "0.3526676062011719"
      ]
     },
     "execution_count": 45,
     "metadata": {},
     "output_type": "execute_result"
    }
   ],
   "source": [
    "# Volatilidad sacada del dataframe\n",
    "sigma"
   ]
  },
  {
   "cell_type": "code",
   "execution_count": 46,
   "metadata": {},
   "outputs": [
    {
     "data": {
      "text/plain": [
       "0.0"
      ]
     },
     "execution_count": 46,
     "metadata": {},
     "output_type": "execute_result"
    }
   ],
   "source": [
    "# dividendo sacada de data.info\n",
    "div"
   ]
  },
  {
   "cell_type": "code",
   "execution_count": 47,
   "metadata": {},
   "outputs": [
    {
     "data": {
      "text/plain": [
       "251.335"
      ]
     },
     "execution_count": 47,
     "metadata": {},
     "output_type": "execute_result"
    }
   ],
   "source": [
    "#spot sacada de data.info\n",
    "S"
   ]
  },
  {
   "cell_type": "code",
   "execution_count": 50,
   "metadata": {},
   "outputs": [
    {
     "name": "stdout",
     "output_type": "stream",
     "text": [
      "Precio Modelo Binomial:  8.456449064621644\n",
      "Precio Modelo BS:  8.45501981910597\n",
      "Precio Mercado Last:  7.65\n",
      "Precio Mercado Avg:  7.925000000000001\n"
     ]
    }
   ],
   "source": [
    "# Llamo a los 2 pricers y comparo con el precio de mercado\n",
    "\n",
    "precio_modelo_bin = opcion_americana_bin(tipo, S, K, T, r, sigma, div, pasos)\n",
    "print(\"Precio Modelo Binomial: \", precio_modelo_bin)\n",
    "\n",
    "precio_modelo_bs = opcion_europea_bs(tipo, S, K, T, r, sigma, div)\n",
    "print(\"Precio Modelo BS: \", precio_modelo_bs)\n",
    "\n",
    "precio_mercado_last = panel_opciones[(panel_opciones.TTM == TTM) & (panel_opciones.CallPut == CP) & (panel_opciones.Strike == K_ATM)].Last.values \n",
    "\n",
    "precio_mercado_avg = (panel_opciones[(panel_opciones.TTM == TTM) & (panel_opciones.CallPut == CP) & (panel_opciones.Strike == K_ATM)].Bid.values[0]#\n",
    "+panel_opciones[(panel_opciones.TTM == TTM) & (panel_opciones.CallPut == CP) & (panel_opciones.Strike == K_ATM)].Ask.values[0]\n",
    ")/2\n",
    "\n",
    "print(\"Precio Mercado Last: \", precio_mercado_last[0])\n",
    "\n",
    "print(\"Precio Mercado Avg: \", precio_mercado_avg)\n",
    "\n"
   ]
  }
 ],
 "metadata": {
  "kernelspec": {
   "display_name": "Python 3",
   "language": "python",
   "name": "python3"
  },
  "language_info": {
   "codemirror_mode": {
    "name": "ipython",
    "version": 3
   },
   "file_extension": ".py",
   "mimetype": "text/x-python",
   "name": "python",
   "nbconvert_exporter": "python",
   "pygments_lexer": "ipython3",
   "version": "3.7.6"
  }
 },
 "nbformat": 4,
 "nbformat_minor": 4
}
