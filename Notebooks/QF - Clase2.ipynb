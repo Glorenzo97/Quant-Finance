{
 "cells": [
  {
   "cell_type": "markdown",
   "metadata": {},
   "source": [
    "# Quant Finance - Clase 2"
   ]
  },
  {
   "cell_type": "markdown",
   "metadata": {},
   "source": [
    "# Modulo yfinance para Yahoo Finance"
   ]
  },
  {
   "cell_type": "markdown",
   "metadata": {},
   "source": [
    "Modulos necesarios\n",
    "\n",
    "Codigo.data_nyse (en github) ;\n",
    "\n",
    "pandas,\n",
    "\n",
    "matplotlib,\n",
    "\n",
    "datetime,\n",
    "\n",
    "yfinance,\n",
    "\n",
    "sys,\n",
    "\n",
    "Instalarlos con Anaconda, comando Conda o comando pip install"
   ]
  },
  {
   "cell_type": "code",
   "execution_count": null,
   "metadata": {},
   "outputs": [],
   "source": [
    "### Importo los modulos\n",
    "\n",
    "import sys\n",
    "sys.path.append('..')\n",
    "\n",
    "from Codigo.data_nyse import *\n",
    "\n",
    "import yfinance as yf\n",
    "import datetime"
   ]
  },
  {
   "cell_type": "markdown",
   "metadata": {},
   "source": [
    "## Queremos emular lo que hicimos para BYMA"
   ]
  },
  {
   "cell_type": "code",
   "execution_count": null,
   "metadata": {},
   "outputs": [],
   "source": [
    "### Metodo para el web scraping\n",
    "panel_yahoo_GGAL = obtener_opciones_yahoo_finance('GGAL')\n",
    "panel_yahoo_GGAL\n"
   ]
  },
  {
   "cell_type": "code",
   "execution_count": null,
   "metadata": {},
   "outputs": [],
   "source": [
    "\n",
    "panel_ociones_GGAL_nyse_clean = obtener_panel_opciones_nyse('GGAL', True)\n",
    "panel_ociones_GGAL_nyse_clean"
   ]
  },
  {
   "cell_type": "markdown",
   "metadata": {},
   "source": [
    "## Modulo yfinance para Yahoo Finance"
   ]
  },
  {
   "cell_type": "code",
   "execution_count": null,
   "metadata": {},
   "outputs": [],
   "source": [
    "ticker = 'GGAL'\n",
    "data = yf.Ticker(ticker)\n",
    "\n",
    "#Data es un objeto\n",
    "# data.info contiene informacion (mucha) del activo\n",
    "\n",
    "data.info\n",
    "\n"
   ]
  },
  {
   "cell_type": "code",
   "execution_count": null,
   "metadata": {},
   "outputs": [],
   "source": [
    "# Spot price\n",
    "\n",
    "print('Bid: ', data.info['bid'])\n",
    "print('Ask: ', data.info['ask'])\n",
    "print('Avg: ', (data.info['bid']+data.info['ask'])/2)"
   ]
  },
  {
   "cell_type": "code",
   "execution_count": null,
   "metadata": {},
   "outputs": [],
   "source": [
    "# Vencimientos de opciones\n",
    "vencimientos = data.options\n",
    "\n",
    "vencimientos"
   ]
  },
  {
   "cell_type": "code",
   "execution_count": null,
   "metadata": {},
   "outputs": [],
   "source": [
    "# Calls y puts\n",
    "calls = data.option_chain(vencimientos[0])[0]\n",
    "puts = data.option_chain(vencimientos[0])[1]\n",
    "\n",
    "puts"
   ]
  },
  {
   "cell_type": "markdown",
   "metadata": {},
   "source": [
    "### Que hace internamente el metodo??"
   ]
  },
  {
   "cell_type": "code",
   "execution_count": null,
   "metadata": {},
   "outputs": [],
   "source": [
    "#Recorro cada vencimiento disponible y voy tomando calls por un lado y puts por otro\n",
    "for vencimiento in vencimientos[1:]:\n",
    "        calls = calls.append(data.option_chain(vencimiento)[0])\n",
    "        puts = puts.append(data.option_chain(vencimiento)[1])\n",
    "\n",
    "#Uno los puts y los calls\n",
    "panel_opciones = calls.append(puts)\n",
    "\n",
    "# Le agrego dos columnas utiles - Ticker y Spot\n",
    "\n",
    "panel_opciones['Spot'] = (data.info['bid']+data.info['ask'])/2\n",
    "panel_opciones['Ticker'] = ticker\n",
    "\n",
    "panel_opciones.head(10)"
   ]
  },
  {
   "cell_type": "markdown",
   "metadata": {},
   "source": [
    "## Del panel de Yahoo crudo a otro con informacion customizada (igual que antes)"
   ]
  },
  {
   "cell_type": "markdown",
   "metadata": {},
   "source": [
    "#### *) Agrego columnas utiles"
   ]
  },
  {
   "cell_type": "code",
   "execution_count": null,
   "metadata": {},
   "outputs": [],
   "source": [
    "\n",
    "panel_opciones['Moneyness'] = 0.0\n",
    "panel_opciones['TTM'] = 0\n",
    "panel_opciones['CallPut'] = ''\n",
    "panel_opciones = panel_opciones.reset_index()\n",
    "\n",
    "panel_opciones.head(5)"
   ]
  },
  {
   "cell_type": "markdown",
   "metadata": {},
   "source": [
    "#### *) Recorro las filas (1ra como ejemplo)"
   ]
  },
  {
   "cell_type": "code",
   "execution_count": null,
   "metadata": {},
   "outputs": [],
   "source": [
    "idx = panel_opciones.index.values[0]"
   ]
  },
  {
   "cell_type": "code",
   "execution_count": null,
   "metadata": {},
   "outputs": [],
   "source": [
    "callput = panel_opciones.contractSymbol.values[idx][10:11]\n",
    "panel_opciones['CallPut'].values[idx] = callput"
   ]
  },
  {
   "cell_type": "code",
   "execution_count": null,
   "metadata": {},
   "outputs": [],
   "source": [
    "year = 2000 + int(panel_opciones.contractSymbol.values[idx][4:6])\n",
    "month = int(panel_opciones.contractSymbol.values[idx][6:8])\n",
    "day = int(panel_opciones.contractSymbol.values[idx][8:10])\n",
    "\n",
    "hoy = datetime.date.today()\n",
    "expiry_datetime = datetime.date(year, month, day)\n",
    "ttm = (expiry_datetime - hoy).days\n",
    "\n",
    "panel_opciones['TTM'].values[idx] = ttm"
   ]
  },
  {
   "cell_type": "code",
   "execution_count": null,
   "metadata": {},
   "outputs": [],
   "source": [
    "panel_opciones['Moneyness'].values[idx] = panel_opciones['Spot'].values[idx] / panel_opciones['strike'].values[idx]"
   ]
  },
  {
   "cell_type": "code",
   "execution_count": null,
   "metadata": {},
   "outputs": [],
   "source": [
    "panel_opciones.head(2)"
   ]
  },
  {
   "cell_type": "markdown",
   "metadata": {},
   "source": [
    "#### *) Recorro las filas (las restantes como ejemplo)"
   ]
  },
  {
   "cell_type": "code",
   "execution_count": null,
   "metadata": {},
   "outputs": [],
   "source": [
    "for idx in list(panel_opciones.index.values[1:]):\n",
    "        year = 2000 + int(panel_opciones.contractSymbol.values[idx][4:6])\n",
    "        month = int(panel_opciones.contractSymbol.values[idx][6:8])\n",
    "        day = int(panel_opciones.contractSymbol.values[idx][8:10])\n",
    "        callput = panel_opciones.contractSymbol.values[idx][10:11]\n",
    "\n",
    "        hoy = datetime.date.today()\n",
    "        expiry_datetime = datetime.date(year, month, day)\n",
    "        ttm = (expiry_datetime - hoy).days\n",
    "\n",
    "        panel_opciones['TTM'].values[idx] = ttm\n",
    "        panel_opciones['CallPut'].values[idx] = callput\n",
    "        panel_opciones['Moneyness'].values[idx] = panel_opciones['Spot'].values[idx] / panel_opciones['strike'].values[idx]\n"
   ]
  },
  {
   "cell_type": "code",
   "execution_count": null,
   "metadata": {},
   "outputs": [],
   "source": [
    "panel_opciones.head(10)"
   ]
  },
  {
   "cell_type": "markdown",
   "metadata": {},
   "source": [
    "#### Panel Limpio"
   ]
  },
  {
   "cell_type": "code",
   "execution_count": null,
   "metadata": {},
   "outputs": [],
   "source": [
    "panel_opciones = panel_opciones.rename(\n",
    "            columns={'lastTradeDate': 'Last_Date', 'contractSymbol': 'Especie', 'strike': 'Strike', 'bid': 'Bid',\n",
    "                     'ask': 'Ask', 'lastPrice': 'Last'}, inplace=False)\n",
    "\n",
    "panel_opciones = panel_opciones.sort_values(['TTM', 'Ticker', 'Strike', 'CallPut'])\n",
    "\n",
    "panel_opciones = panel_opciones[['Especie', 'Ticker', 'Spot', 'CallPut', 'Strike', 'TTM', 'Last', 'Moneyness']]\n"
   ]
  },
  {
   "cell_type": "code",
   "execution_count": null,
   "metadata": {},
   "outputs": [],
   "source": [
    "panel_opciones"
   ]
  },
  {
   "cell_type": "markdown",
   "metadata": {},
   "source": [
    "## Ploteando los datos"
   ]
  },
  {
   "cell_type": "markdown",
   "metadata": {},
   "source": [
    "### Para cada vencimiento, grafico los strikes"
   ]
  },
  {
   "cell_type": "code",
   "execution_count": null,
   "metadata": {},
   "outputs": [],
   "source": [
    "# NYSE\n",
    "panel_opciones_ggal_nyse_limpio = obtener_panel_opciones_nyse('GGAL', True)\n",
    "\n",
    "TTMs = list(set(panel_opciones_ggal_nyse_limpio.TTM.values))\n",
    "TTMs"
   ]
  },
  {
   "cell_type": "code",
   "execution_count": null,
   "metadata": {},
   "outputs": [],
   "source": [
    "TTM = 29\n",
    "panel_opciones_ggal_nyse_limpio[(panel_opciones_ggal_nyse_limpio.TTM == 29) & (panel_opciones_ggal_nyse_limpio.CallPut == \"C\")].head(10)"
   ]
  },
  {
   "cell_type": "code",
   "execution_count": null,
   "metadata": {},
   "outputs": [],
   "source": [
    "from matplotlib import pyplot as plt\n",
    "CP = \"C\"\n",
    "for TTM in TTMs:\n",
    "    Ks = panel_opciones_ggal_nyse_limpio[(panel_opciones_ggal_nyse_limpio.TTM == TTM) & (panel_opciones_ggal_nyse_limpio.CallPut == CP)].Strike.values\n",
    "    precios = panel_opciones_ggal_nyse_limpio[(panel_opciones_ggal_nyse_limpio.TTM == TTM) & (panel_opciones_ggal_nyse_limpio.CallPut == CP)].Last.values\n",
    "    plt.plot(Ks, precios,'*', label='TTM = '+str(TTM))\n",
    "\n",
    "\n",
    "plt.legend()\n",
    "\n",
    "plt.xlabel('Strike')\n",
    "plt.ylabel('Precio de mercado del Call')\n",
    "plt.title('Precio de mercado de las opciones Call con respecto al Strike')\n",
    "    \n",
    "plt.show()\n",
    "    "
   ]
  },
  {
   "cell_type": "code",
   "execution_count": null,
   "metadata": {},
   "outputs": [],
   "source": [
    "\n",
    "CP = \"P\"\n",
    "for TTM in TTMs:\n",
    "    Ks = panel_opciones_ggal_nyse_limpio[(panel_opciones_ggal_nyse_limpio.TTM == TTM) & (panel_opciones_ggal_nyse_limpio.CallPut == CP)].Strike.values\n",
    "    precios = panel_opciones_ggal_nyse_limpio[(panel_opciones_ggal_nyse_limpio.TTM == TTM) & (panel_opciones_ggal_nyse_limpio.CallPut == CP)].Last.values\n",
    "    plt.plot(Ks, precios,'*', label='TTM = '+str(TTM))\n",
    "\n",
    "\n",
    "plt.legend()\n",
    "\n",
    "plt.xlabel('Strike')\n",
    "plt.ylabel('Precio de mercado del Call')\n",
    "plt.title('Precio de mercado de las opciones Call con respecto al Strike')\n",
    "    \n",
    "plt.show()"
   ]
  },
  {
   "cell_type": "markdown",
   "metadata": {},
   "source": [
    "### Para cada strike, grafico los TTM"
   ]
  },
  {
   "cell_type": "code",
   "execution_count": null,
   "metadata": {},
   "outputs": [],
   "source": [
    "Ks = list(set(panel_opciones_ggal_nyse_limpio.Strike.values))"
   ]
  },
  {
   "cell_type": "code",
   "execution_count": null,
   "metadata": {},
   "outputs": [],
   "source": [
    "from matplotlib import pyplot as plt\n",
    "CP = \"C\"\n",
    "for K in Ks:\n",
    "    TTMs = panel_opciones_ggal_nyse_limpio[(panel_opciones_ggal_nyse_limpio.Strike == K) & (panel_opciones_ggal_nyse_limpio.CallPut == CP)].Strike.values\n",
    "    precios = panel_opciones_ggal_nyse_limpio[(panel_opciones_ggal_nyse_limpio.Strike == K) & (panel_opciones_ggal_nyse_limpio.CallPut == CP)].Last.values\n",
    "    if len(TTMs)>1:\n",
    "        plt.plot(TTMs, precios,'*', label='Strike = '+str(K))\n",
    "\n",
    "plt.legend()\n",
    "\n",
    "plt.xlabel('TTM')\n",
    "plt.ylabel('Precio de mercado del Call')\n",
    "plt.title('Precio de mercado de las opciones Call con respecto al TTM')\n",
    "    \n",
    "plt.show()\n",
    "    "
   ]
  },
  {
   "cell_type": "markdown",
   "metadata": {},
   "source": [
    "## Ploteando los datos con un ticker mega liquido"
   ]
  },
  {
   "cell_type": "code",
   "execution_count": null,
   "metadata": {},
   "outputs": [],
   "source": [
    "# NYSE AAPL\n",
    "ticker = 'AAPL'\n",
    "panel_opciones_nyse_limpio = obtener_panel_opciones_nyse(ticker, True)\n",
    "\n",
    "TTMs = list(set(panel_opciones_nyse_limpio.TTM.values))\n",
    "TTMs.sort()\n",
    "TTMs"
   ]
  },
  {
   "cell_type": "code",
   "execution_count": null,
   "metadata": {},
   "outputs": [],
   "source": [
    "\n",
    "from matplotlib import pyplot as plt\n",
    "CP = \"C\"\n",
    "for TTM in TTMs[0:5]:\n",
    "    Ks = panel_opciones_nyse_limpio[(panel_opciones_nyse_limpio.TTM == TTM) & (panel_opciones_nyse_limpio.CallPut == CP)].Strike.values\n",
    "    precios = panel_opciones_nyse_limpio[(panel_opciones_nyse_limpio.TTM == TTM) & (panel_opciones_nyse_limpio.CallPut == CP)].Last.values\n",
    "    plt.plot(Ks, precios, '.',label='TTM = '+str(TTM))\n",
    "\n",
    "\n",
    "plt.legend()\n",
    "\n",
    "plt.xlabel('Strike')\n",
    "plt.ylabel('Precio de mercado del Call')\n",
    "plt.title('Precio de mercado de las opciones Call con respecto al Strike')\n",
    "    \n",
    "plt.show()\n",
    "    "
   ]
  },
  {
   "cell_type": "code",
   "execution_count": null,
   "metadata": {},
   "outputs": [],
   "source": [
    "\n",
    "from matplotlib import pyplot as plt\n",
    "CP = \"C\"\n",
    "for TTM in TTMs[5:11]:\n",
    "    Ks = panel_opciones_nyse_limpio[(panel_opciones_nyse_limpio.TTM == TTM) & (panel_opciones_nyse_limpio.CallPut == CP)].Strike.values\n",
    "    precios = panel_opciones_nyse_limpio[(panel_opciones_nyse_limpio.TTM == TTM) & (panel_opciones_nyse_limpio.CallPut == CP)].Last.values\n",
    "    plt.plot(Ks, precios, '.',label='TTM = '+str(TTM))\n",
    "\n",
    "\n",
    "plt.legend()\n",
    "\n",
    "plt.xlabel('Strike')\n",
    "plt.ylabel('Precio de mercado del Call')\n",
    "plt.title('Precio de mercado de las opciones Call con respecto al Strike')\n",
    "    \n",
    "plt.show()\n",
    "    "
   ]
  },
  {
   "cell_type": "code",
   "execution_count": null,
   "metadata": {},
   "outputs": [],
   "source": [
    "\n",
    "from matplotlib import pyplot as plt\n",
    "CP = \"C\"\n",
    "for TTM in TTMs[11:17]:\n",
    "    Ks = panel_opciones_nyse_limpio[(panel_opciones_nyse_limpio.TTM == TTM) & (panel_opciones_nyse_limpio.CallPut == CP)].Strike.values\n",
    "    precios = panel_opciones_nyse_limpio[(panel_opciones_nyse_limpio.TTM == TTM) & (panel_opciones_nyse_limpio.CallPut == CP)].Last.values\n",
    "    plt.plot(Ks, precios,'.',label='TTM = '+str(TTM))\n",
    "\n",
    "\n",
    "plt.legend()\n",
    "\n",
    "plt.xlabel('Strike')\n",
    "plt.ylabel('Precio de mercado del Call')\n",
    "plt.title('Precio de mercado de las opciones Call con respecto al Strike')\n",
    "    \n",
    "plt.show()\n",
    "    "
   ]
  },
  {
   "cell_type": "code",
   "execution_count": null,
   "metadata": {},
   "outputs": [],
   "source": [
    "from matplotlib import pyplot as plt\n",
    "CP = \"P\"\n",
    "for TTM in TTMs[0:5]:\n",
    "    Ks = panel_opciones_nyse_limpio[(panel_opciones_nyse_limpio.TTM == TTM) & (panel_opciones_nyse_limpio.CallPut == CP)].Strike.values\n",
    "    precios = panel_opciones_nyse_limpio[(panel_opciones_nyse_limpio.TTM == TTM) & (panel_opciones_nyse_limpio.CallPut == CP)].Last.values\n",
    "    plt.plot(Ks, precios, '.',label='TTM = '+str(TTM))\n",
    "\n",
    "\n",
    "plt.legend()\n",
    "\n",
    "plt.xlabel('Strike')\n",
    "plt.ylabel('Precio de mercado del Put')\n",
    "plt.title('Precio de mercado de las opciones Put con respecto al Strike')\n",
    "    \n",
    "plt.show()\n",
    "    "
   ]
  },
  {
   "cell_type": "code",
   "execution_count": null,
   "metadata": {},
   "outputs": [],
   "source": [
    "from matplotlib import pyplot as plt\n",
    "CP = \"P\"\n",
    "for TTM in TTMs[5:11]:\n",
    "    Ks = panel_opciones_nyse_limpio[(panel_opciones_nyse_limpio.TTM == TTM) & (panel_opciones_nyse_limpio.CallPut == CP)].Strike.values\n",
    "    precios = panel_opciones_nyse_limpio[(panel_opciones_nyse_limpio.TTM == TTM) & (panel_opciones_nyse_limpio.CallPut == CP)].Last.values\n",
    "    plt.plot(Ks, precios, '.',label='TTM = '+str(TTM))\n",
    "\n",
    "\n",
    "plt.legend()\n",
    "\n",
    "plt.xlabel('Strike')\n",
    "plt.ylabel('Precio de mercado del Put')\n",
    "plt.title('Precio de mercado de las opciones Put con respecto al Strike')\n",
    "    \n",
    "plt.show()\n",
    "    "
   ]
  },
  {
   "cell_type": "code",
   "execution_count": null,
   "metadata": {},
   "outputs": [],
   "source": [
    "from matplotlib import pyplot as plt\n",
    "CP = \"P\"\n",
    "for TTM in TTMs[11:17]:\n",
    "    Ks = panel_opciones_nyse_limpio[(panel_opciones_nyse_limpio.TTM == TTM) & (panel_opciones_nyse_limpio.CallPut == CP)].Strike.values\n",
    "    precios = panel_opciones_nyse_limpio[(panel_opciones_nyse_limpio.TTM == TTM) & (panel_opciones_nyse_limpio.CallPut == CP)].Last.values\n",
    "    plt.plot(Ks, precios, '.',label='TTM = '+str(TTM))\n",
    "\n",
    "\n",
    "plt.legend()\n",
    "\n",
    "plt.xlabel('Strike')\n",
    "plt.ylabel('Precio de mercado del Put')\n",
    "plt.title('Precio de mercado de las opciones Put con respecto al Strike')\n",
    "    \n",
    "plt.show()\n",
    "    "
   ]
  },
  {
   "cell_type": "code",
   "execution_count": null,
   "metadata": {},
   "outputs": [],
   "source": [
    "Ks = list(set(panel_opciones_nyse_limpio.Strike.values))\n",
    "Ks.sort()\n",
    "len(Ks)"
   ]
  },
  {
   "cell_type": "code",
   "execution_count": null,
   "metadata": {},
   "outputs": [],
   "source": [
    "from matplotlib import pyplot as plt\n",
    "CP = \"C\"\n",
    "for K in Ks[45:55]:\n",
    "    TTMs = panel_opciones_nyse_limpio[(panel_opciones_nyse_limpio.Strike == K) & (panel_opciones_nyse_limpio.CallPut == CP)].Strike.values\n",
    "    precios = panel_opciones_nyse_limpio[(panel_opciones_nyse_limpio.Strike == K) & (panel_opciones_nyse_limpio.CallPut == CP)].Last.values\n",
    "    if len(TTMs)>1:\n",
    "        plt.plot(TTMs, precios,'*', label='Strike = '+str(K))\n",
    "\n",
    "plt.legend()\n",
    "\n",
    "plt.xlabel('TTM')\n",
    "plt.ylabel('Precio de mercado del Call')\n",
    "plt.title('Precio de mercado de las opciones Call con respecto al TTM')\n",
    "    \n",
    "plt.show()"
   ]
  },
  {
   "cell_type": "code",
   "execution_count": null,
   "metadata": {},
   "outputs": [],
   "source": [
    "from matplotlib import pyplot as plt\n",
    "CP = \"P\"\n",
    "for K in Ks[100:]:\n",
    "    TTMs = panel_opciones_nyse_limpio[(panel_opciones_nyse_limpio.Strike == K) & (panel_opciones_nyse_limpio.CallPut == CP)].Strike.values\n",
    "    precios = panel_opciones_nyse_limpio[(panel_opciones_nyse_limpio.Strike == K) & (panel_opciones_nyse_limpio.CallPut == CP)].Last.values\n",
    "    if len(TTMs)>1:\n",
    "        plt.plot(TTMs, precios,'*', label='Strike = '+str(K))\n",
    "\n",
    "plt.legend()\n",
    "\n",
    "plt.xlabel('TTM')\n",
    "plt.ylabel('Precio de mercado del Put')\n",
    "plt.title('Precio de mercado de las opciones Put con respecto al TTM')\n",
    "    \n",
    "plt.show()"
   ]
  },
  {
   "cell_type": "markdown",
   "metadata": {},
   "source": [
    "## Pasar a Excel"
   ]
  },
  {
   "cell_type": "code",
   "execution_count": null,
   "metadata": {},
   "outputs": [],
   "source": [
    "panel_opciones_ggal_nyse_crudo = obtener_panel_opciones_nyse('GGAL', False)\n",
    "panel_opciones_ggal_nyse_crudo.to_excel('Clase_2_panel_opciones_ggal_nyse_crudo.xls')\n",
    "\n",
    "panel_opciones_ggal_nyse_limpio = obtener_panel_opciones_nyse('GGAL', True)\n",
    "panel_opciones_ggal_nyse_limpio.to_excel('Clase_2_panel_opciones_ggal_nyse_limpio.xls')\n",
    "\n",
    "\n",
    "panel_opciones_aapl_nyse_limpio = obtener_panel_opciones_nyse('AAPL', True)\n",
    "panel_opciones_aapl_nyse_limpio.to_excel('Clase_2_panel_opciones_aapl_nyse_limpio.xls')                                                \n",
    "         "
   ]
  }
 ],
 "metadata": {
  "kernelspec": {
   "display_name": "Python 3",
   "language": "python",
   "name": "python3"
  },
  "language_info": {
   "codemirror_mode": {
    "name": "ipython",
    "version": 3
   },
   "file_extension": ".py",
   "mimetype": "text/x-python",
   "name": "python",
   "nbconvert_exporter": "python",
   "pygments_lexer": "ipython3",
   "version": "3.7.6"
  }
 },
 "nbformat": 4,
 "nbformat_minor": 4
}
