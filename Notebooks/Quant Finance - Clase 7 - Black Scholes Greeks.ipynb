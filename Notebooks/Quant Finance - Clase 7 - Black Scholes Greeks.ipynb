{
 "cells": [
  {
   "cell_type": "markdown",
   "metadata": {},
   "source": [
    "## Quant Finance - Clase 7 - Black Scholes Greeks"
   ]
  },
  {
   "cell_type": "code",
   "execution_count": null,
   "metadata": {},
   "outputs": [],
   "source": [
    "from math import log, sqrt, exp, pi\n",
    "from scipy.stats import norm\n",
    "import matplotlib.pyplot as plt\n",
    "import numpy as np"
   ]
  },
  {
   "cell_type": "markdown",
   "metadata": {},
   "source": [
    "#### Formula de Black-Scholes:"
   ]
  },
  {
   "cell_type": "code",
   "execution_count": null,
   "metadata": {},
   "outputs": [],
   "source": [
    "def BSFormula(S_t, t, T, K, v, r, f):\n",
    "    d_plus  = ( log( S_t/K ) + ( r + v**2 / 2 ) * (T-t) ) / ( v * sqrt( T-t ) )  \n",
    "    d_minus = ( log( S_t/K ) + ( r - v**2 / 2 ) * (T-t) ) / ( v * sqrt( T-t ) )\n",
    "    df = exp( -r * (T-t) )\n",
    "    return f * ( norm.cdf(f * d_plus) * S_t - norm.cdf(f * d_minus) * K * df )"
   ]
  },
  {
   "cell_type": "markdown",
   "metadata": {},
   "source": [
    "#### Seteamos los parametros fijos:"
   ]
  },
  {
   "cell_type": "code",
   "execution_count": null,
   "metadata": {},
   "outputs": [],
   "source": [
    "t = 0 \n",
    "T = 1\n",
    "K = 50\n",
    "v = 0.5\n",
    "r = 0.1\n",
    "drift = 0.5\n",
    "f = 1 # setea una call"
   ]
  },
  {
   "cell_type": "markdown",
   "metadata": {},
   "source": [
    "## Delta"
   ]
  },
  {
   "cell_type": "code",
   "execution_count": null,
   "metadata": {},
   "outputs": [],
   "source": [
    "N = 1000\n",
    "\n",
    "S = np.linspace(1, 100, N+1)\n",
    "\n",
    "d_plus = [( log( S[i]/K ) + ( r + v**2 / 2 ) * (T-t) ) / ( v * sqrt( T-t ) ) for i in range(N+1)]\n",
    "\n",
    "delta_call = [norm.cdf(f * d_plus[i])  for i in range(N+1)]\n",
    "delta_put = [norm.cdf(f * d_plus[i]) - 1  for i in range(N+1)]"
   ]
  },
  {
   "cell_type": "code",
   "execution_count": null,
   "metadata": {},
   "outputs": [],
   "source": [
    "fig, axs = plt.subplots(1, 2, figsize=(9, 3))\n",
    "\n",
    "axs[0].plot(S, delta_call, 'r')\n",
    "axs[0].set_title('call delta')\n",
    "axs[0].set_xlabel('S')\n",
    "axs[0].set_ylabel('')\n",
    "\n",
    "axs[1].plot(S, delta_put, 'r')\n",
    "axs[1].set_title('put delta')\n",
    "axs[1].set_xlabel('S')\n",
    "axs[1].set_ylabel('')\n",
    "plt.show()"
   ]
  },
  {
   "cell_type": "markdown",
   "metadata": {},
   "source": [
    "## Theta"
   ]
  },
  {
   "cell_type": "code",
   "execution_count": null,
   "metadata": {},
   "outputs": [],
   "source": [
    "d_minus = [( log( S[i]/K ) + ( r - v**2 / 2 ) * (T-t) ) / ( v * sqrt( T-t ) ) for i in range(N+1)]\n",
    "\n",
    "\n",
    "theta_call = [- S[i] * exp (- d_plus[i] * d_plus[i] / 2 ) * v / (2*sqrt(2*pi*(T-t))) - r * K * exp(- r * (T-t)) * norm.cdf(d_minus[i])  for i in range(N+1)]\n"
   ]
  },
  {
   "cell_type": "code",
   "execution_count": null,
   "metadata": {},
   "outputs": [],
   "source": [
    "plt.plot(S, theta_call, 'r')\n",
    "plt.title('call theta')\n",
    "plt.xlabel('S')\n",
    "plt.ylabel('')\n",
    "\n",
    "plt.show()"
   ]
  },
  {
   "cell_type": "code",
   "execution_count": null,
   "metadata": {},
   "outputs": [],
   "source": [
    "N = 1000\n",
    "\n",
    "tt = np.linspace(0, 0.999, N+1)\n",
    "\n",
    "def d_plus_(S_t, tt, T, K, v, r):\n",
    "    return [( log( S_t/K ) + ( r + v**2 / 2 ) * (T-tt[i]) ) / ( v * sqrt( T-tt[i] ) ) for i in range(N+1)]\n",
    "\n",
    "def d_minus_(S_t, tt, T, K, v, r):\n",
    "    return [( log( S_t/K ) + ( r - v**2 / 2 ) * (T-tt[i]) ) / ( v * sqrt( T-tt[i] ) ) for i in range(N+1)]\n",
    "\n",
    "def theta_call_(S_t, d_plus_, d_minus_, tt, T, K, v, r):\n",
    "    return [- S_t * exp (- d_plus_[i] * d_plus_[i] / 2 ) * v / (2*sqrt(2*pi*(T-tt[i]))) - r * K * exp(- r * (T-tt[i])) * norm.cdf(d_minus_[i])  for i in range(N+1)] \n",
    "\n",
    "S_t = 45\n",
    "d_plus_OTM = d_plus_(S_t, tt, T, K, v, r)\n",
    "d_minus_OTM = d_minus_(S_t, tt, T, K, v, r)\n",
    "theta_call_OTM = theta_call_(S_t, d_plus_OTM, d_minus_OTM, tt, T, K, v, r)\n",
    "\n",
    "S_t = 50\n",
    "d_plus_ATM = d_plus_(S_t, tt, T, K, v, r)\n",
    "d_minus_ATM = d_minus_(S_t, tt, T, K, v, r)\n",
    "theta_call_ATM = theta_call_(S_t, d_plus_ATM, d_minus_ATM, tt, T, K, v, r)\n",
    "\n",
    "S_t = 55\n",
    "d_plus_ITM = d_plus_(S_t, tt, T, K, v, r)\n",
    "d_minus_ITM = d_minus_(S_t, tt, T, K, v, r)\n",
    "theta_call_ITM = theta_call_(S_t, d_plus_ITM, d_minus_ITM, tt, T, K, v, r)"
   ]
  },
  {
   "cell_type": "code",
   "execution_count": null,
   "metadata": {},
   "outputs": [],
   "source": [
    "plt.plot(1 - tt, theta_call_OTM, 'r')\n",
    "plt.plot(1 - tt, theta_call_ATM, 'b')\n",
    "plt.plot(1 - tt, theta_call_ITM, 'g')\n",
    "\n",
    "plt.title('theta en función de t')\n",
    "plt.xlabel('T')\n",
    "plt.ylabel('')\n",
    "plt.ylim(-30,5)\n",
    "\n",
    "plt.show()"
   ]
  },
  {
   "cell_type": "markdown",
   "metadata": {},
   "source": [
    "## Gamma"
   ]
  },
  {
   "cell_type": "code",
   "execution_count": null,
   "metadata": {},
   "outputs": [],
   "source": [
    "gamma_call = [ exp (- d_plus[i] * d_plus[i] / 2 ) / (sqrt(2*pi*(T-t)))/ S_t / v for i in range(N+1)]\n"
   ]
  },
  {
   "cell_type": "code",
   "execution_count": null,
   "metadata": {},
   "outputs": [],
   "source": [
    "plt.plot(S, gamma_call, 'r')\n",
    "plt.title('call gamma')\n",
    "plt.xlabel('S')\n",
    "plt.ylabel('')\n",
    "\n",
    "plt.show()"
   ]
  }
 ],
 "metadata": {
  "kernelspec": {
   "display_name": "Python 3",
   "language": "python",
   "name": "python3"
  },
  "language_info": {
   "codemirror_mode": {
    "name": "ipython",
    "version": 3
   },
   "file_extension": ".py",
   "mimetype": "text/x-python",
   "name": "python",
   "nbconvert_exporter": "python",
   "pygments_lexer": "ipython3",
   "version": "3.7.4"
  }
 },
 "nbformat": 4,
 "nbformat_minor": 2
}
